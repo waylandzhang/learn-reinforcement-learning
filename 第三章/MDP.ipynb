{
 "cells": [
  {
   "metadata": {},
   "cell_type": "markdown",
   "source": [
    "### 第三章 MDP：Finite Markov Decision Process（有限马尔可夫决策过程）\n",
    "\n",
    "所谓马尔可复决策过程（__MDP__）是指一个五元组$(S, A, P, R, \\gamma)$，其中：\n",
    "\n",
    "- $S$是状态集合\n",
    "- $A$是动作集合\n",
    "- $P$是状态转移概率矩阵\n",
    "- $R$是奖励函数\n",
    "- $\\gamma$是折扣因子\n",
    "\n",
    "_（有限马尔可夫中的 __“有限”__ 表示上述状态集合和动作集合都是有限的，而非无限情况下的。）_\n",
    "\n",
    "MDP中，动作不仅影响当前的即时收益，还影响后续的情境（又称状态）以及未来的收益。因此, MDP 涉及了 __延迟收益__ ，由此也就有了在当前收益和延迟收益之间权衡的需求。在上一章赌博机问题中，我们估计了每个动作 ${a}$ 的价值 $Q(a)$; 而在 MDP 中，我们估计了：\n",
    "- 每个动作 ${a}$ 在每个状态 ${s}$ 中的价值 $Q(s, a)$, 或者\n",
    "- 估计给定最优动作下的每个状态的价值 $V(s)$。 \n",
    "\n",
    "并且这些价值都是长期累积的。\n",
    "\n",
    "MDP是一个非常重要的强化学习模型，它描述了一个智能体与环境交互的过程。智能体在某个状态$s$下执行动作$a$，环境根据状态转移概率$P$将智能体的状态从$s$转移到$s'$，并给予智能体奖励$R$。智能体的目标是最大化长期累积奖励，即最大化折扣累积奖励$\\sum_{t=0}^{\\infty} \\gamma^t r_t$。\n",
    "\n"
   ],
   "id": "4baa16586dde9d25"
  },
  {
   "metadata": {},
   "cell_type": "markdown",
   "source": [
    "#### 3.1 The Agent-environment Interface（智能体-环境接口）\n",
    "\n",
    "MDP 就是一种通过交互式学习来实现目标的理论框架。那么引出：\n",
    "\n",
    "- 什么是智能体 agent\n",
    "- 什么是环境 environment\n",
    "\n",
    "智能体选择动作，环境对这些动作做出相应的响应，并向智能体呈现出新的状态。环境也会产生一个收益，通常是特定的数值，表示智能体在这个状态下的表现。智能体的目标是最大化这个收益。如下图所示：\n",
    "\n",
    "![MDP](img_1.png)\n",
    "\n",
    "__MDP的公式化定义如下：__\n",
    "\n",
    "$$\n",
    "p(s',r \\mid s,a) \\doteq \\Pr\\{S_t = s', R_t = r \\mid S_{t-i} = s, A_{t-i} = a\\}\n",
    "$$\n",
    "\n",
    "这里，$p(s',r \\mid s,a)$是 __状态转移概率__ 动态函数，表示在状态$s$下执行动作$a$后，智能体将会转移到状态$s'$并获得奖励$r$的概率。\n",
    "\n",
    "\n",
    "（动态函数 $p: S \\times A \\times R \\times S \\rightarrow [0, 1]$ 来自行为的序列或轨迹：$S_0, A_0, R_1, S_1, A_1, R_2, S_2, A_2, R_3, \\ldots$ ）\n",
    "\n",
    "\n",
    "函数 p 为每个 s 和 a 的选择都指定了一个概率分布，即：\n",
    "\n",
    "$$\n",
    "\\sum_{s' \\in S} \\sum_{r \\in R} p(s',r \\mid s,a) = 1, \\quad \\text{对于所有 } s \\in S, a \\in A(s)\n",
    "$$\n",
    "\n",
    "\n",
    "也就是说，$S_t$ 和 $R_t$ 的每个可能的值出现的概率只取决于前一个状态 $S_{t一1}$ 和前一个动作 $A_{t一1}$, 并且与更早之前的状态和动作完全无关。这个限制是针对状态的。状态必须包括过去智能体和环境交互的方方面面的信息，这些信息会对未来产生一定影响。这样，状态就被认为具有 __马尔可夫性__ 。\n",
    "\n",
    "__MDP框架的限制：__\n",
    "\n",
    "_非静态环境_：MDP假设环境和奖励函数是静态的，即它们不会随着时间变化。如果环境是非静态的，MDP框架可能无法充分表示任务。在这些情况下，自适应或在线学习技术可能更合适。\n",
    "\n",
    "__例子：Recycling Robot 扫地机器人：__\n",
    "\n",
    "状态、动作、下一状态、下一状态转移概率、奖励函数等信息整理成表格，如下图所示：\n",
    "\n",
    "（左侧）表格归纳图、（右侧）转移归纳图\n",
    "\n",
    "![Recycling Robot](img.png)"
   ],
   "id": "e6320d3f56a30ad3"
  },
  {
   "metadata": {},
   "cell_type": "markdown",
   "source": [
    "#### 3.2 Goals and Rewards（目标和奖励）\n",
    "\n",
    "- 在强化学习中，智能体的目标是最大化长期累积奖励（即最大化其收到的总收益）。\n",
    "- 如何设计奖励值？胜利+1、失败-1？胜利+100，每一步-1？等等。\n",
    "- 设计最终目标的重要性。赢棋？通关？击败对手？等等。"
   ],
   "id": "cb02bf29f5bda2f"
  },
  {
   "metadata": {},
   "cell_type": "markdown",
   "source": [
    "#### 3.3 Returns and Episodes（回报和回合）\n",
    "\n",
    "回报是收益的综合：\n",
    "\n",
    "$$\n",
    "G_t \\doteq R_{t+1} + \\gamma R_{t+2} + \\gamma^2 R_{t+3} + \\gamma^3 R_{t+4} + \\ldots = \\sum_{k=0}^{\\infty} \\gamma^k R_{t+k+1}\n",
    "$$\n",
    "\n",
    "其中，$G_t$是从时间步 $t$ 开始的折扣累积奖励，$\\gamma$是一个 $0 \\leq \\gamma \\leq 1$ 的折扣因子。折扣因子决定了未来奖励的重要性。$\\gamma$ 越接近 0，智能体越关注即时奖励；$\\gamma$ 越接近 1，智能体越关注长期奖励。公式通过递归方式，可以简化为：\n",
    "\n",
    "$$\n",
    "\\begin{align*}\n",
    "G_t &\\doteq R_{t+1} + \\gamma R_{t+2} + \\gamma^2 R_{t+3} + \\gamma^3 R_{t+4} + \\cdots \\\\\n",
    "&= R_{t+1} + \\gamma ( R_{t+2} + \\gamma R_{t+3} + \\gamma^2 R_{t+4} + \\cdots ) \\\\\n",
    "&= R_{t+1} + \\gamma G_{t+1}\n",
    "\\end{align*}\n",
    "$$\n",
    "\n",
    "\n",
    "\n",
    "书中举例，假如收益 $R$ 是一个常数 $+1$ ，那么通过几何级数的求和公式可以得出：\n",
    "\n",
    "$$\n",
    "G_t = \\sum_{k=0}^{\\infty} \\gamma^k = \\frac{1}{1 - \\gamma}.\n",
    "$$\n",
    "\n",
    "它想说明的是，即使回报是对无限个收益子项求和，但只要收益是一个非零常数且 $\\gamma <1$ ,那这个回报仍是有限的。\n",
    "\n",
    "而 __episode “回合”__ 的概念更加直接，就是在环境当中的每个任务的回合。比如agent赢下一局五子棋游戏，就是一个“回合”；agent走出一次迷宫，就是一次“回合”。\n"
   ],
   "id": "20991b9d12c6454e"
  },
  {
   "metadata": {},
   "cell_type": "markdown",
   "source": [
    "#### __例子：Pole-Balancing 平衡车游戏：__\n",
    "\n",
    "一个典型的多回合（episode）强化学习例子。在这个例子中，智能体的目标是保持杆子竖直。每个回合开始时，杆子是竖直的，智能体必须选择动作来保持杆子竖直。如果杆子倾斜超过一定角度，智能体就会失败。智能体的目标是尽可能多地保持杆子竖直，直到达到某个时间步数或者直到智能体失败。在这个例子中，每个回合都是一个任务，智能体的目标是最大化每个回合的回报。"
   ],
   "id": "bd4cc065f8996279"
  },
  {
   "metadata": {
    "ExecuteTime": {
     "end_time": "2024-09-29T13:44:01.369235Z",
     "start_time": "2024-09-29T13:43:44.236954Z"
    }
   },
   "cell_type": "code",
   "source": [
    "# 使用OpenAI的gym库创建一个游戏环境\n",
    "import gymnasium as gym\n",
    "import numpy as np\n",
    "\n",
    "# 创建 CartPole 环境\n",
    "env = gym.make('CartPole-v1', render_mode=\"human\")\n",
    "\n",
    "# 设置回合数\n",
    "n_episodes = 20\n",
    "\n",
    "for episode in range(n_episodes):\n",
    "    observation, info = env.reset()  # 重置环境，获取状态、信息\n",
    "    total_reward = 0\n",
    "    done = False\n",
    "    truncated = False\n",
    "\n",
    "    while not (done or truncated):\n",
    "        # 渲染环境\n",
    "        env.render()\n",
    "\n",
    "        # 随机选择一个动作（0：向左移动，1：向右移动）\n",
    "        action = env.action_space.sample()\n",
    "\n",
    "        # 执行动作\n",
    "        observation, reward, done, truncated, info = env.step(action)\n",
    "        \n",
    "        # 累计奖励\n",
    "        total_reward += reward\n",
    "\n",
    "    print(f\"Episode {episode + 1}: Total Reward = {total_reward}\")\n",
    "\n",
    "# 关闭环境\n",
    "env.close()"
   ],
   "id": "822d56ba2693bd10",
   "outputs": [
    {
     "name": "stderr",
     "output_type": "stream",
     "text": [
      "2024-09-29 21:43:45.197 python[5669:334002] +[IMKClient subclass]: chose IMKClient_Legacy\n",
      "2024-09-29 21:43:45.197 python[5669:334002] +[IMKInputSession subclass]: chose IMKInputSession_Legacy\n"
     ]
    },
    {
     "name": "stdout",
     "output_type": "stream",
     "text": [
      "Episode 1: Total Reward = 31.0\n",
      "Episode 2: Total Reward = 18.0\n",
      "Episode 3: Total Reward = 17.0\n",
      "Episode 4: Total Reward = 15.0\n",
      "Episode 5: Total Reward = 17.0\n",
      "Episode 6: Total Reward = 15.0\n",
      "Episode 7: Total Reward = 35.0\n",
      "Episode 8: Total Reward = 12.0\n",
      "Episode 9: Total Reward = 10.0\n",
      "Episode 10: Total Reward = 11.0\n",
      "Episode 11: Total Reward = 11.0\n",
      "Episode 12: Total Reward = 46.0\n",
      "Episode 13: Total Reward = 13.0\n",
      "Episode 14: Total Reward = 10.0\n",
      "Episode 15: Total Reward = 15.0\n",
      "Episode 16: Total Reward = 24.0\n",
      "Episode 17: Total Reward = 8.0\n",
      "Episode 18: Total Reward = 19.0\n",
      "Episode 19: Total Reward = 23.0\n",
      "Episode 20: Total Reward = 23.0\n"
     ]
    }
   ],
   "execution_count": 22
  },
  {
   "metadata": {},
   "cell_type": "markdown",
   "source": [
    "#### 3.4 Unified Notation for Episodic and Continuing Tasks（回合任务和连续任务的统一符号表示）\n",
    "\n",
    "这一章中主要讨论的是强化学习中智能体与环境交互的过程。在这个过程中，智能体与环境交互的任务可以分为两种类型：__回合任务__ 和 __连续任务__。\n",
    "\n",
    "- 回合任务：比如一局游戏\n",
    "- 连续任务：比如一只机械臂连续作业。。\n",
    "\n",
    "这章主要讲统一符号，及在表达式中忽略Episode的标记 ${i}$。\n",
    "\n",
    "书中为了简略，将 $R_{t,i}$ 表示为 $R_{t}$，将 $S_{t,i}$ 表示为 $S_{t}$ ，将 $A_{t,i}$ 表示为 $A_{t}$ 等等"
   ],
   "id": "8c33c789bc6f76b"
  },
  {
   "metadata": {},
   "cell_type": "markdown",
   "source": [
    "#### 3.5 Policies and Value Functions（策略和价值函数）\n",
    "\n",
    "\n",
    "概念： __价值函数__：Agent在给定状态（或状态-动作对）下 “能有多好” 的函数。而 __策略__：Agent在给定状态下 “应该做什么” 的函数。 策是从状态到每个动作的选择概率之间的映射。如果Agent在 ${t}$ 时刻选择了策略 $\\pi$ ，那么 $\\pi(a|s)$ 就是在状态 ${s}$ 下选择动作 ${a}$ 的概率。\n",
    "\n",
    "以下为两种价值函数的定义：\n",
    "\n",
    "- 策略价值函数 $v_{\\pi}(s)$ 是在策略 $\\pi$ 下状态 ${s}$ 的价值：\n",
    "$$\n",
    "v_{\\pi}(s) \\doteq \\mathbb{E}_{\\pi} [G_t \\mid S_t = s] = \\mathbb{E}_{\\pi} \\left[ \\sum_{k=0}^{\\infty} \\gamma^k R_{t+k+1} \\mid S_t = s \\right]\n",
    "$$\n",
    "- 动作价值函数 $q_{\\pi}(s, a)$ 是在策略 $\\pi$ 下状态 ${s}$ 和动作 ${a}$ 的价值：\n",
    "$$\n",
    "q_{\\pi}(s, a) \\doteq \\mathbb{E}_{\\pi} [G_t \\mid S_t = s, A_t = a] = \\mathbb{E}_{\\pi} \\left[ \\sum_{k=0}^{\\infty} \\gamma^k R_{t+k+1} \\mid S_t = s, A_t = a \\right]\n",
    "$$"
   ],
   "id": "e72760bc172c17d7"
  },
  {
   "metadata": {},
   "cell_type": "markdown",
   "source": [
    "\n",
    "#### Bellman Expectation Equation（贝尔曼期望方程）\n",
    "\n",
    "- 策略价值函数 $v_{\\pi}(s)$ 是在策略 $\\pi$ 下状态 ${s}$ 的价值：\n",
    "\n",
    "$$\n",
    "v_{\\pi}(s) = \\sum_{a} \\pi(a|s) \\sum_{s', r} p(s', r \\mid s, a) [r + \\gamma v_{\\pi}(s')]\n",
    "$$\n",
    "\n",
    "- 动作价值函数 $q_{\\pi}(s, a)$ 是在策略 $\\pi$ 下状态 ${s}$ 和动作 ${a}$ 的价值：\n",
    "\n",
    "$$\n",
    "q_{\\pi}(s, a) = \\sum_{s', r} p(s', r \\mid s, a) [r + \\gamma \\sum_{a'} \\pi(a'|s') q_{\\pi}(s', a')]\n",
    "$$\n",
    "\n",
    "简而言之，整个方程的含义是：\n",
    "\n",
    "在某个状态下，按照策略π选择动作，然后考虑所有可能的下一个状态和奖励，__计算即时奖励加上折扣的未来价值的期望总和__。\n"
   ],
   "id": "e25a727211ca144f"
  },
  {
   "metadata": {},
   "cell_type": "markdown",
   "source": [
    "#### __例子：Gridworld 网格游戏：__\n",
    "\n",
    "实现书中 example 3.5 的网格游戏，如下图所示：\n",
    "\n",
    "![image](img_2.png)"
   ],
   "id": "cf16739a8949a6b2"
  },
  {
   "metadata": {
    "ExecuteTime": {
     "end_time": "2024-09-29T13:10:50.669882Z",
     "start_time": "2024-09-29T13:10:50.641559Z"
    }
   },
   "cell_type": "code",
   "source": [
    "import numpy as np\n",
    "import plotly.graph_objects as go\n",
    "\n",
    "# 根据状态和动作获取奖励\n",
    "def get_reward(state: tuple, act: tuple):\n",
    "    \"\"\"\n",
    "    state: 当前状态，元组 (行, 列)\n",
    "    act: 动作，元组 (行变化, 列变化)\n",
    "    \n",
    "    返回: 奖励和下一个状态\n",
    "    \"\"\"\n",
    "    if state == (0, 1):\n",
    "        return 10, (4, 1)\n",
    "    if state == (0, 3):\n",
    "        return 5, (2, 3)\n",
    "\n",
    "    next_row = state[0] + act[0]\n",
    "    next_col = state[1] + act[1]\n",
    "\n",
    "    if not (0 <= next_row < 5 and 0 <= next_col < 5):\n",
    "        return -1, state\n",
    "\n",
    "    return 0, (next_row, next_col)\n",
    "\n",
    "# 价值函数更新\n",
    "def grid_state_value_func(grid_world: np.ndarray, actions: list, gamma: float):\n",
    "    \"\"\"\n",
    "    grid_world: 5x5网格世界地图，numpy数组\n",
    "    actions: 可能的动作列表\n",
    "    gamma: 折扣因子 0.9\n",
    "    \n",
    "    :returns\n",
    "    格子及其累积的价值。\n",
    "    【说明】：每个格子的值是基于当前状态下所有可能动作的期望值计算得到的。这个期望值是通过对每个可能动作的奖励和下一个状态的折扣值进行加权平均计算得出。\n",
    "    \"\"\"\n",
    "    new_grid = np.copy(grid_world)\n",
    "    for row in range(5):\n",
    "        for col in range(5):\n",
    "            curr_value = 0\n",
    "            for act in actions:\n",
    "                reward, next_state = get_reward((row, col), act)\n",
    "                next_value = grid_world[next_state]\n",
    "                curr_value += 0.25 * (reward + gamma * next_value) # R + gamme * R_{t+1}\n",
    "            new_grid[row, col] = curr_value\n",
    "    return new_grid\n",
    "\n",
    "# 绘制价值表\n",
    "def plot_grid(grid_world: np.ndarray, iteration: int = 0):\n",
    "    \"\"\"\n",
    "    grid_world: The grid world to be plotted\n",
    "    iteration: Current iteration count\n",
    "    \"\"\"\n",
    "    # Create the heatmap with improved colorscale and font settings\n",
    "    fig = go.Figure(data=go.Heatmap(\n",
    "        z=grid_world,\n",
    "        text=[[f'{val:.1f}' for val in row] for row in grid_world],\n",
    "        texttemplate=\"%{text}\",\n",
    "        textfont={\"size\": 16, \"color\": \"white\"},\n",
    "        colorscale='Viridis',\n",
    "        showscale=True,\n",
    "        colorbar=dict(title='Value', titleside='right', ticks='outside')\n",
    "    ))\n",
    "\n",
    "    # Update layout for aesthetics and better formatting\n",
    "    fig.update_layout(\n",
    "        title=f'Iteration {iteration}',\n",
    "        title_font_size=12,\n",
    "        title_x=0.5,\n",
    "        width=450,\n",
    "        height=450,\n",
    "        margin=dict(l=50, r=50, t=100, b=50),  # Add margins for better visualization\n",
    "        paper_bgcolor='rgba(0,0,0,0)',  # Transparent background\n",
    "        plot_bgcolor='rgba(0,0,0,0)',   # Transparent plot area\n",
    "        xaxis=dict(showticklabels=False),\n",
    "        yaxis=dict(showticklabels=False, autorange='reversed')  # Reverse y-axis\n",
    "    )\n",
    "\n",
    "    # Adding gridlines for a cleaner look\n",
    "    fig.update_xaxes(showgrid=True, gridwidth=1, gridcolor='LightGrey')\n",
    "    fig.update_yaxes(showgrid=True, gridwidth=1, gridcolor='LightGrey')\n",
    "\n",
    "    fig.show()\n",
    "\n",
    "# 初始化网格世界\n",
    "grid_world = np.zeros(shape=(5, 5))\n",
    "actions = [(0, 1), (0, -1), (1, 0), (-1, 0)]  # 右、左、下、上 4种动作\n",
    "gamma = 0.9  # 折扣因子\n",
    "\n",
    "# 主循环\n",
    "\"\"\"\n",
    "通过 np.allclose() 函数来检查两个数组是否非常接近，如果是，则停止迭代。\n",
    "当网格近似相等时，迭代停止，因为这表明数值已经收敛。\n",
    "在马尔可夫决策过程（MDP）的价值迭代中，收敛意味着进一步的迭代不会显著改变网格中的数值。\n",
    "表明算法已经找到一个稳定的解，继续迭代将变得不必要且浪费计算资源。\n",
    "\"\"\"\n",
    "for i in range(40):\n",
    "    prev_grid = np.copy(grid_world)\n",
    "    grid_world = grid_state_value_func(grid_world, actions, gamma)\n",
    "\n",
    "    if np.allclose(prev_grid, grid_world, rtol=0.01):\n",
    "        # 匹配书中的结果：\n",
    "        print(f'完成于第 {i} 次迭代')\n",
    "        plot_grid(grid_world, i)\n",
    "        break"
   ],
   "id": "d0e67c79b5eaf445",
   "outputs": [
    {
     "name": "stdout",
     "output_type": "stream",
     "text": [
      "完成于第 30 次迭代\n"
     ]
    },
    {
     "data": {
      "application/vnd.plotly.v1+json": {
       "data": [
        {
         "colorbar": {
          "ticks": "outside",
          "title": {
           "side": "right",
           "text": "Value"
          }
         },
         "colorscale": [
          [
           0.0,
           "#440154"
          ],
          [
           0.1111111111111111,
           "#482878"
          ],
          [
           0.2222222222222222,
           "#3e4989"
          ],
          [
           0.3333333333333333,
           "#31688e"
          ],
          [
           0.4444444444444444,
           "#26828e"
          ],
          [
           0.5555555555555556,
           "#1f9e89"
          ],
          [
           0.6666666666666666,
           "#35b779"
          ],
          [
           0.7777777777777778,
           "#6ece58"
          ],
          [
           0.8888888888888888,
           "#b5de2b"
          ],
          [
           1.0,
           "#fde725"
          ]
         ],
         "showscale": true,
         "text": [
          [
           "3.3",
           "8.8",
           "4.4",
           "5.3",
           "1.5"
          ],
          [
           "1.5",
           "3.0",
           "2.3",
           "1.9",
           "0.6"
          ],
          [
           "0.1",
           "0.7",
           "0.7",
           "0.4",
           "-0.4"
          ],
          [
           "-1.0",
           "-0.4",
           "-0.4",
           "-0.6",
           "-1.2"
          ],
          [
           "-1.9",
           "-1.3",
           "-1.2",
           "-1.4",
           "-2.0"
          ]
         ],
         "textfont": {
          "color": "white",
          "size": 16
         },
         "texttemplate": "%{text}",
         "z": [
          [
           3.313598312253879,
           8.793826819691272,
           4.4318517916226625,
           5.326359961083462,
           1.4959398120367469
          ],
          [
           1.526141733497006,
           2.9967574275425557,
           2.2543424475894414,
           1.9115350388304986,
           0.5511937410744233
          ],
          [
           0.055360403314267004,
           0.7426002619111887,
           0.6773422615398882,
           0.36221519102745114,
           -0.3992487359929677
          ],
          [
           -0.9690275419858755,
           -0.43102951312352766,
           -0.3505748974303379,
           -0.5814693408661648,
           -1.1790442081102217
          ],
          [
           -1.8531067848086882,
           -1.3407221152525894,
           -1.2249021423397024,
           -1.4186972433554135,
           -1.9710513977581638
          ]
         ],
         "type": "heatmap"
        }
       ],
       "layout": {
        "template": {
         "data": {
          "histogram2dcontour": [
           {
            "type": "histogram2dcontour",
            "colorbar": {
             "outlinewidth": 0,
             "ticks": ""
            },
            "colorscale": [
             [
              0.0,
              "#0d0887"
             ],
             [
              0.1111111111111111,
              "#46039f"
             ],
             [
              0.2222222222222222,
              "#7201a8"
             ],
             [
              0.3333333333333333,
              "#9c179e"
             ],
             [
              0.4444444444444444,
              "#bd3786"
             ],
             [
              0.5555555555555556,
              "#d8576b"
             ],
             [
              0.6666666666666666,
              "#ed7953"
             ],
             [
              0.7777777777777778,
              "#fb9f3a"
             ],
             [
              0.8888888888888888,
              "#fdca26"
             ],
             [
              1.0,
              "#f0f921"
             ]
            ]
           }
          ],
          "choropleth": [
           {
            "type": "choropleth",
            "colorbar": {
             "outlinewidth": 0,
             "ticks": ""
            }
           }
          ],
          "histogram2d": [
           {
            "type": "histogram2d",
            "colorbar": {
             "outlinewidth": 0,
             "ticks": ""
            },
            "colorscale": [
             [
              0.0,
              "#0d0887"
             ],
             [
              0.1111111111111111,
              "#46039f"
             ],
             [
              0.2222222222222222,
              "#7201a8"
             ],
             [
              0.3333333333333333,
              "#9c179e"
             ],
             [
              0.4444444444444444,
              "#bd3786"
             ],
             [
              0.5555555555555556,
              "#d8576b"
             ],
             [
              0.6666666666666666,
              "#ed7953"
             ],
             [
              0.7777777777777778,
              "#fb9f3a"
             ],
             [
              0.8888888888888888,
              "#fdca26"
             ],
             [
              1.0,
              "#f0f921"
             ]
            ]
           }
          ],
          "heatmap": [
           {
            "type": "heatmap",
            "colorbar": {
             "outlinewidth": 0,
             "ticks": ""
            },
            "colorscale": [
             [
              0.0,
              "#0d0887"
             ],
             [
              0.1111111111111111,
              "#46039f"
             ],
             [
              0.2222222222222222,
              "#7201a8"
             ],
             [
              0.3333333333333333,
              "#9c179e"
             ],
             [
              0.4444444444444444,
              "#bd3786"
             ],
             [
              0.5555555555555556,
              "#d8576b"
             ],
             [
              0.6666666666666666,
              "#ed7953"
             ],
             [
              0.7777777777777778,
              "#fb9f3a"
             ],
             [
              0.8888888888888888,
              "#fdca26"
             ],
             [
              1.0,
              "#f0f921"
             ]
            ]
           }
          ],
          "heatmapgl": [
           {
            "type": "heatmapgl",
            "colorbar": {
             "outlinewidth": 0,
             "ticks": ""
            },
            "colorscale": [
             [
              0.0,
              "#0d0887"
             ],
             [
              0.1111111111111111,
              "#46039f"
             ],
             [
              0.2222222222222222,
              "#7201a8"
             ],
             [
              0.3333333333333333,
              "#9c179e"
             ],
             [
              0.4444444444444444,
              "#bd3786"
             ],
             [
              0.5555555555555556,
              "#d8576b"
             ],
             [
              0.6666666666666666,
              "#ed7953"
             ],
             [
              0.7777777777777778,
              "#fb9f3a"
             ],
             [
              0.8888888888888888,
              "#fdca26"
             ],
             [
              1.0,
              "#f0f921"
             ]
            ]
           }
          ],
          "contourcarpet": [
           {
            "type": "contourcarpet",
            "colorbar": {
             "outlinewidth": 0,
             "ticks": ""
            }
           }
          ],
          "contour": [
           {
            "type": "contour",
            "colorbar": {
             "outlinewidth": 0,
             "ticks": ""
            },
            "colorscale": [
             [
              0.0,
              "#0d0887"
             ],
             [
              0.1111111111111111,
              "#46039f"
             ],
             [
              0.2222222222222222,
              "#7201a8"
             ],
             [
              0.3333333333333333,
              "#9c179e"
             ],
             [
              0.4444444444444444,
              "#bd3786"
             ],
             [
              0.5555555555555556,
              "#d8576b"
             ],
             [
              0.6666666666666666,
              "#ed7953"
             ],
             [
              0.7777777777777778,
              "#fb9f3a"
             ],
             [
              0.8888888888888888,
              "#fdca26"
             ],
             [
              1.0,
              "#f0f921"
             ]
            ]
           }
          ],
          "surface": [
           {
            "type": "surface",
            "colorbar": {
             "outlinewidth": 0,
             "ticks": ""
            },
            "colorscale": [
             [
              0.0,
              "#0d0887"
             ],
             [
              0.1111111111111111,
              "#46039f"
             ],
             [
              0.2222222222222222,
              "#7201a8"
             ],
             [
              0.3333333333333333,
              "#9c179e"
             ],
             [
              0.4444444444444444,
              "#bd3786"
             ],
             [
              0.5555555555555556,
              "#d8576b"
             ],
             [
              0.6666666666666666,
              "#ed7953"
             ],
             [
              0.7777777777777778,
              "#fb9f3a"
             ],
             [
              0.8888888888888888,
              "#fdca26"
             ],
             [
              1.0,
              "#f0f921"
             ]
            ]
           }
          ],
          "mesh3d": [
           {
            "type": "mesh3d",
            "colorbar": {
             "outlinewidth": 0,
             "ticks": ""
            }
           }
          ],
          "scatter": [
           {
            "fillpattern": {
             "fillmode": "overlay",
             "size": 10,
             "solidity": 0.2
            },
            "type": "scatter"
           }
          ],
          "parcoords": [
           {
            "type": "parcoords",
            "line": {
             "colorbar": {
              "outlinewidth": 0,
              "ticks": ""
             }
            }
           }
          ],
          "scatterpolargl": [
           {
            "type": "scatterpolargl",
            "marker": {
             "colorbar": {
              "outlinewidth": 0,
              "ticks": ""
             }
            }
           }
          ],
          "bar": [
           {
            "error_x": {
             "color": "#2a3f5f"
            },
            "error_y": {
             "color": "#2a3f5f"
            },
            "marker": {
             "line": {
              "color": "#E5ECF6",
              "width": 0.5
             },
             "pattern": {
              "fillmode": "overlay",
              "size": 10,
              "solidity": 0.2
             }
            },
            "type": "bar"
           }
          ],
          "scattergeo": [
           {
            "type": "scattergeo",
            "marker": {
             "colorbar": {
              "outlinewidth": 0,
              "ticks": ""
             }
            }
           }
          ],
          "scatterpolar": [
           {
            "type": "scatterpolar",
            "marker": {
             "colorbar": {
              "outlinewidth": 0,
              "ticks": ""
             }
            }
           }
          ],
          "histogram": [
           {
            "marker": {
             "pattern": {
              "fillmode": "overlay",
              "size": 10,
              "solidity": 0.2
             }
            },
            "type": "histogram"
           }
          ],
          "scattergl": [
           {
            "type": "scattergl",
            "marker": {
             "colorbar": {
              "outlinewidth": 0,
              "ticks": ""
             }
            }
           }
          ],
          "scatter3d": [
           {
            "type": "scatter3d",
            "line": {
             "colorbar": {
              "outlinewidth": 0,
              "ticks": ""
             }
            },
            "marker": {
             "colorbar": {
              "outlinewidth": 0,
              "ticks": ""
             }
            }
           }
          ],
          "scattermapbox": [
           {
            "type": "scattermapbox",
            "marker": {
             "colorbar": {
              "outlinewidth": 0,
              "ticks": ""
             }
            }
           }
          ],
          "scatterternary": [
           {
            "type": "scatterternary",
            "marker": {
             "colorbar": {
              "outlinewidth": 0,
              "ticks": ""
             }
            }
           }
          ],
          "scattercarpet": [
           {
            "type": "scattercarpet",
            "marker": {
             "colorbar": {
              "outlinewidth": 0,
              "ticks": ""
             }
            }
           }
          ],
          "carpet": [
           {
            "aaxis": {
             "endlinecolor": "#2a3f5f",
             "gridcolor": "white",
             "linecolor": "white",
             "minorgridcolor": "white",
             "startlinecolor": "#2a3f5f"
            },
            "baxis": {
             "endlinecolor": "#2a3f5f",
             "gridcolor": "white",
             "linecolor": "white",
             "minorgridcolor": "white",
             "startlinecolor": "#2a3f5f"
            },
            "type": "carpet"
           }
          ],
          "table": [
           {
            "cells": {
             "fill": {
              "color": "#EBF0F8"
             },
             "line": {
              "color": "white"
             }
            },
            "header": {
             "fill": {
              "color": "#C8D4E3"
             },
             "line": {
              "color": "white"
             }
            },
            "type": "table"
           }
          ],
          "barpolar": [
           {
            "marker": {
             "line": {
              "color": "#E5ECF6",
              "width": 0.5
             },
             "pattern": {
              "fillmode": "overlay",
              "size": 10,
              "solidity": 0.2
             }
            },
            "type": "barpolar"
           }
          ],
          "pie": [
           {
            "automargin": true,
            "type": "pie"
           }
          ]
         },
         "layout": {
          "autotypenumbers": "strict",
          "colorway": [
           "#636efa",
           "#EF553B",
           "#00cc96",
           "#ab63fa",
           "#FFA15A",
           "#19d3f3",
           "#FF6692",
           "#B6E880",
           "#FF97FF",
           "#FECB52"
          ],
          "font": {
           "color": "#2a3f5f"
          },
          "hovermode": "closest",
          "hoverlabel": {
           "align": "left"
          },
          "paper_bgcolor": "white",
          "plot_bgcolor": "#E5ECF6",
          "polar": {
           "bgcolor": "#E5ECF6",
           "angularaxis": {
            "gridcolor": "white",
            "linecolor": "white",
            "ticks": ""
           },
           "radialaxis": {
            "gridcolor": "white",
            "linecolor": "white",
            "ticks": ""
           }
          },
          "ternary": {
           "bgcolor": "#E5ECF6",
           "aaxis": {
            "gridcolor": "white",
            "linecolor": "white",
            "ticks": ""
           },
           "baxis": {
            "gridcolor": "white",
            "linecolor": "white",
            "ticks": ""
           },
           "caxis": {
            "gridcolor": "white",
            "linecolor": "white",
            "ticks": ""
           }
          },
          "coloraxis": {
           "colorbar": {
            "outlinewidth": 0,
            "ticks": ""
           }
          },
          "colorscale": {
           "sequential": [
            [
             0.0,
             "#0d0887"
            ],
            [
             0.1111111111111111,
             "#46039f"
            ],
            [
             0.2222222222222222,
             "#7201a8"
            ],
            [
             0.3333333333333333,
             "#9c179e"
            ],
            [
             0.4444444444444444,
             "#bd3786"
            ],
            [
             0.5555555555555556,
             "#d8576b"
            ],
            [
             0.6666666666666666,
             "#ed7953"
            ],
            [
             0.7777777777777778,
             "#fb9f3a"
            ],
            [
             0.8888888888888888,
             "#fdca26"
            ],
            [
             1.0,
             "#f0f921"
            ]
           ],
           "sequentialminus": [
            [
             0.0,
             "#0d0887"
            ],
            [
             0.1111111111111111,
             "#46039f"
            ],
            [
             0.2222222222222222,
             "#7201a8"
            ],
            [
             0.3333333333333333,
             "#9c179e"
            ],
            [
             0.4444444444444444,
             "#bd3786"
            ],
            [
             0.5555555555555556,
             "#d8576b"
            ],
            [
             0.6666666666666666,
             "#ed7953"
            ],
            [
             0.7777777777777778,
             "#fb9f3a"
            ],
            [
             0.8888888888888888,
             "#fdca26"
            ],
            [
             1.0,
             "#f0f921"
            ]
           ],
           "diverging": [
            [
             0,
             "#8e0152"
            ],
            [
             0.1,
             "#c51b7d"
            ],
            [
             0.2,
             "#de77ae"
            ],
            [
             0.3,
             "#f1b6da"
            ],
            [
             0.4,
             "#fde0ef"
            ],
            [
             0.5,
             "#f7f7f7"
            ],
            [
             0.6,
             "#e6f5d0"
            ],
            [
             0.7,
             "#b8e186"
            ],
            [
             0.8,
             "#7fbc41"
            ],
            [
             0.9,
             "#4d9221"
            ],
            [
             1,
             "#276419"
            ]
           ]
          },
          "xaxis": {
           "gridcolor": "white",
           "linecolor": "white",
           "ticks": "",
           "title": {
            "standoff": 15
           },
           "zerolinecolor": "white",
           "automargin": true,
           "zerolinewidth": 2
          },
          "yaxis": {
           "gridcolor": "white",
           "linecolor": "white",
           "ticks": "",
           "title": {
            "standoff": 15
           },
           "zerolinecolor": "white",
           "automargin": true,
           "zerolinewidth": 2
          },
          "scene": {
           "xaxis": {
            "backgroundcolor": "#E5ECF6",
            "gridcolor": "white",
            "linecolor": "white",
            "showbackground": true,
            "ticks": "",
            "zerolinecolor": "white",
            "gridwidth": 2
           },
           "yaxis": {
            "backgroundcolor": "#E5ECF6",
            "gridcolor": "white",
            "linecolor": "white",
            "showbackground": true,
            "ticks": "",
            "zerolinecolor": "white",
            "gridwidth": 2
           },
           "zaxis": {
            "backgroundcolor": "#E5ECF6",
            "gridcolor": "white",
            "linecolor": "white",
            "showbackground": true,
            "ticks": "",
            "zerolinecolor": "white",
            "gridwidth": 2
           }
          },
          "shapedefaults": {
           "line": {
            "color": "#2a3f5f"
           }
          },
          "annotationdefaults": {
           "arrowcolor": "#2a3f5f",
           "arrowhead": 0,
           "arrowwidth": 1
          },
          "geo": {
           "bgcolor": "white",
           "landcolor": "#E5ECF6",
           "subunitcolor": "white",
           "showland": true,
           "showlakes": true,
           "lakecolor": "white"
          },
          "title": {
           "x": 0.05
          },
          "mapbox": {
           "style": "light"
          }
         }
        },
        "title": {
         "text": "Iteration 30",
         "font": {
          "size": 12
         },
         "x": 0.5
        },
        "margin": {
         "l": 50,
         "r": 50,
         "t": 100,
         "b": 50
        },
        "xaxis": {
         "showticklabels": false,
         "showgrid": true,
         "gridwidth": 1,
         "gridcolor": "LightGrey"
        },
        "yaxis": {
         "showticklabels": false,
         "autorange": "reversed",
         "showgrid": true,
         "gridwidth": 1,
         "gridcolor": "LightGrey"
        },
        "width": 450,
        "height": 450,
        "paper_bgcolor": "rgba(0,0,0,0)",
        "plot_bgcolor": "rgba(0,0,0,0)"
       },
       "config": {
        "plotlyServerURL": "https://plot.ly"
       }
      },
      "text/html": [
       "<div>                            <div id=\"6a21c84c-4d1f-4bc6-87bd-e7ddb0b251a1\" class=\"plotly-graph-div\" style=\"height:450px; width:450px;\"></div>            <script type=\"text/javascript\">                require([\"plotly\"], function(Plotly) {                    window.PLOTLYENV=window.PLOTLYENV || {};                                    if (document.getElementById(\"6a21c84c-4d1f-4bc6-87bd-e7ddb0b251a1\")) {                    Plotly.newPlot(                        \"6a21c84c-4d1f-4bc6-87bd-e7ddb0b251a1\",                        [{\"colorbar\":{\"ticks\":\"outside\",\"title\":{\"side\":\"right\",\"text\":\"Value\"}},\"colorscale\":[[0.0,\"#440154\"],[0.1111111111111111,\"#482878\"],[0.2222222222222222,\"#3e4989\"],[0.3333333333333333,\"#31688e\"],[0.4444444444444444,\"#26828e\"],[0.5555555555555556,\"#1f9e89\"],[0.6666666666666666,\"#35b779\"],[0.7777777777777778,\"#6ece58\"],[0.8888888888888888,\"#b5de2b\"],[1.0,\"#fde725\"]],\"showscale\":true,\"text\":[[\"3.3\",\"8.8\",\"4.4\",\"5.3\",\"1.5\"],[\"1.5\",\"3.0\",\"2.3\",\"1.9\",\"0.6\"],[\"0.1\",\"0.7\",\"0.7\",\"0.4\",\"-0.4\"],[\"-1.0\",\"-0.4\",\"-0.4\",\"-0.6\",\"-1.2\"],[\"-1.9\",\"-1.3\",\"-1.2\",\"-1.4\",\"-2.0\"]],\"textfont\":{\"color\":\"white\",\"size\":16},\"texttemplate\":\"%{text}\",\"z\":[[3.313598312253879,8.793826819691272,4.4318517916226625,5.326359961083462,1.4959398120367469],[1.526141733497006,2.9967574275425557,2.2543424475894414,1.9115350388304986,0.5511937410744233],[0.055360403314267004,0.7426002619111887,0.6773422615398882,0.36221519102745114,-0.3992487359929677],[-0.9690275419858755,-0.43102951312352766,-0.3505748974303379,-0.5814693408661648,-1.1790442081102217],[-1.8531067848086882,-1.3407221152525894,-1.2249021423397024,-1.4186972433554135,-1.9710513977581638]],\"type\":\"heatmap\"}],                        {\"template\":{\"data\":{\"histogram2dcontour\":[{\"type\":\"histogram2dcontour\",\"colorbar\":{\"outlinewidth\":0,\"ticks\":\"\"},\"colorscale\":[[0.0,\"#0d0887\"],[0.1111111111111111,\"#46039f\"],[0.2222222222222222,\"#7201a8\"],[0.3333333333333333,\"#9c179e\"],[0.4444444444444444,\"#bd3786\"],[0.5555555555555556,\"#d8576b\"],[0.6666666666666666,\"#ed7953\"],[0.7777777777777778,\"#fb9f3a\"],[0.8888888888888888,\"#fdca26\"],[1.0,\"#f0f921\"]]}],\"choropleth\":[{\"type\":\"choropleth\",\"colorbar\":{\"outlinewidth\":0,\"ticks\":\"\"}}],\"histogram2d\":[{\"type\":\"histogram2d\",\"colorbar\":{\"outlinewidth\":0,\"ticks\":\"\"},\"colorscale\":[[0.0,\"#0d0887\"],[0.1111111111111111,\"#46039f\"],[0.2222222222222222,\"#7201a8\"],[0.3333333333333333,\"#9c179e\"],[0.4444444444444444,\"#bd3786\"],[0.5555555555555556,\"#d8576b\"],[0.6666666666666666,\"#ed7953\"],[0.7777777777777778,\"#fb9f3a\"],[0.8888888888888888,\"#fdca26\"],[1.0,\"#f0f921\"]]}],\"heatmap\":[{\"type\":\"heatmap\",\"colorbar\":{\"outlinewidth\":0,\"ticks\":\"\"},\"colorscale\":[[0.0,\"#0d0887\"],[0.1111111111111111,\"#46039f\"],[0.2222222222222222,\"#7201a8\"],[0.3333333333333333,\"#9c179e\"],[0.4444444444444444,\"#bd3786\"],[0.5555555555555556,\"#d8576b\"],[0.6666666666666666,\"#ed7953\"],[0.7777777777777778,\"#fb9f3a\"],[0.8888888888888888,\"#fdca26\"],[1.0,\"#f0f921\"]]}],\"heatmapgl\":[{\"type\":\"heatmapgl\",\"colorbar\":{\"outlinewidth\":0,\"ticks\":\"\"},\"colorscale\":[[0.0,\"#0d0887\"],[0.1111111111111111,\"#46039f\"],[0.2222222222222222,\"#7201a8\"],[0.3333333333333333,\"#9c179e\"],[0.4444444444444444,\"#bd3786\"],[0.5555555555555556,\"#d8576b\"],[0.6666666666666666,\"#ed7953\"],[0.7777777777777778,\"#fb9f3a\"],[0.8888888888888888,\"#fdca26\"],[1.0,\"#f0f921\"]]}],\"contourcarpet\":[{\"type\":\"contourcarpet\",\"colorbar\":{\"outlinewidth\":0,\"ticks\":\"\"}}],\"contour\":[{\"type\":\"contour\",\"colorbar\":{\"outlinewidth\":0,\"ticks\":\"\"},\"colorscale\":[[0.0,\"#0d0887\"],[0.1111111111111111,\"#46039f\"],[0.2222222222222222,\"#7201a8\"],[0.3333333333333333,\"#9c179e\"],[0.4444444444444444,\"#bd3786\"],[0.5555555555555556,\"#d8576b\"],[0.6666666666666666,\"#ed7953\"],[0.7777777777777778,\"#fb9f3a\"],[0.8888888888888888,\"#fdca26\"],[1.0,\"#f0f921\"]]}],\"surface\":[{\"type\":\"surface\",\"colorbar\":{\"outlinewidth\":0,\"ticks\":\"\"},\"colorscale\":[[0.0,\"#0d0887\"],[0.1111111111111111,\"#46039f\"],[0.2222222222222222,\"#7201a8\"],[0.3333333333333333,\"#9c179e\"],[0.4444444444444444,\"#bd3786\"],[0.5555555555555556,\"#d8576b\"],[0.6666666666666666,\"#ed7953\"],[0.7777777777777778,\"#fb9f3a\"],[0.8888888888888888,\"#fdca26\"],[1.0,\"#f0f921\"]]}],\"mesh3d\":[{\"type\":\"mesh3d\",\"colorbar\":{\"outlinewidth\":0,\"ticks\":\"\"}}],\"scatter\":[{\"fillpattern\":{\"fillmode\":\"overlay\",\"size\":10,\"solidity\":0.2},\"type\":\"scatter\"}],\"parcoords\":[{\"type\":\"parcoords\",\"line\":{\"colorbar\":{\"outlinewidth\":0,\"ticks\":\"\"}}}],\"scatterpolargl\":[{\"type\":\"scatterpolargl\",\"marker\":{\"colorbar\":{\"outlinewidth\":0,\"ticks\":\"\"}}}],\"bar\":[{\"error_x\":{\"color\":\"#2a3f5f\"},\"error_y\":{\"color\":\"#2a3f5f\"},\"marker\":{\"line\":{\"color\":\"#E5ECF6\",\"width\":0.5},\"pattern\":{\"fillmode\":\"overlay\",\"size\":10,\"solidity\":0.2}},\"type\":\"bar\"}],\"scattergeo\":[{\"type\":\"scattergeo\",\"marker\":{\"colorbar\":{\"outlinewidth\":0,\"ticks\":\"\"}}}],\"scatterpolar\":[{\"type\":\"scatterpolar\",\"marker\":{\"colorbar\":{\"outlinewidth\":0,\"ticks\":\"\"}}}],\"histogram\":[{\"marker\":{\"pattern\":{\"fillmode\":\"overlay\",\"size\":10,\"solidity\":0.2}},\"type\":\"histogram\"}],\"scattergl\":[{\"type\":\"scattergl\",\"marker\":{\"colorbar\":{\"outlinewidth\":0,\"ticks\":\"\"}}}],\"scatter3d\":[{\"type\":\"scatter3d\",\"line\":{\"colorbar\":{\"outlinewidth\":0,\"ticks\":\"\"}},\"marker\":{\"colorbar\":{\"outlinewidth\":0,\"ticks\":\"\"}}}],\"scattermapbox\":[{\"type\":\"scattermapbox\",\"marker\":{\"colorbar\":{\"outlinewidth\":0,\"ticks\":\"\"}}}],\"scatterternary\":[{\"type\":\"scatterternary\",\"marker\":{\"colorbar\":{\"outlinewidth\":0,\"ticks\":\"\"}}}],\"scattercarpet\":[{\"type\":\"scattercarpet\",\"marker\":{\"colorbar\":{\"outlinewidth\":0,\"ticks\":\"\"}}}],\"carpet\":[{\"aaxis\":{\"endlinecolor\":\"#2a3f5f\",\"gridcolor\":\"white\",\"linecolor\":\"white\",\"minorgridcolor\":\"white\",\"startlinecolor\":\"#2a3f5f\"},\"baxis\":{\"endlinecolor\":\"#2a3f5f\",\"gridcolor\":\"white\",\"linecolor\":\"white\",\"minorgridcolor\":\"white\",\"startlinecolor\":\"#2a3f5f\"},\"type\":\"carpet\"}],\"table\":[{\"cells\":{\"fill\":{\"color\":\"#EBF0F8\"},\"line\":{\"color\":\"white\"}},\"header\":{\"fill\":{\"color\":\"#C8D4E3\"},\"line\":{\"color\":\"white\"}},\"type\":\"table\"}],\"barpolar\":[{\"marker\":{\"line\":{\"color\":\"#E5ECF6\",\"width\":0.5},\"pattern\":{\"fillmode\":\"overlay\",\"size\":10,\"solidity\":0.2}},\"type\":\"barpolar\"}],\"pie\":[{\"automargin\":true,\"type\":\"pie\"}]},\"layout\":{\"autotypenumbers\":\"strict\",\"colorway\":[\"#636efa\",\"#EF553B\",\"#00cc96\",\"#ab63fa\",\"#FFA15A\",\"#19d3f3\",\"#FF6692\",\"#B6E880\",\"#FF97FF\",\"#FECB52\"],\"font\":{\"color\":\"#2a3f5f\"},\"hovermode\":\"closest\",\"hoverlabel\":{\"align\":\"left\"},\"paper_bgcolor\":\"white\",\"plot_bgcolor\":\"#E5ECF6\",\"polar\":{\"bgcolor\":\"#E5ECF6\",\"angularaxis\":{\"gridcolor\":\"white\",\"linecolor\":\"white\",\"ticks\":\"\"},\"radialaxis\":{\"gridcolor\":\"white\",\"linecolor\":\"white\",\"ticks\":\"\"}},\"ternary\":{\"bgcolor\":\"#E5ECF6\",\"aaxis\":{\"gridcolor\":\"white\",\"linecolor\":\"white\",\"ticks\":\"\"},\"baxis\":{\"gridcolor\":\"white\",\"linecolor\":\"white\",\"ticks\":\"\"},\"caxis\":{\"gridcolor\":\"white\",\"linecolor\":\"white\",\"ticks\":\"\"}},\"coloraxis\":{\"colorbar\":{\"outlinewidth\":0,\"ticks\":\"\"}},\"colorscale\":{\"sequential\":[[0.0,\"#0d0887\"],[0.1111111111111111,\"#46039f\"],[0.2222222222222222,\"#7201a8\"],[0.3333333333333333,\"#9c179e\"],[0.4444444444444444,\"#bd3786\"],[0.5555555555555556,\"#d8576b\"],[0.6666666666666666,\"#ed7953\"],[0.7777777777777778,\"#fb9f3a\"],[0.8888888888888888,\"#fdca26\"],[1.0,\"#f0f921\"]],\"sequentialminus\":[[0.0,\"#0d0887\"],[0.1111111111111111,\"#46039f\"],[0.2222222222222222,\"#7201a8\"],[0.3333333333333333,\"#9c179e\"],[0.4444444444444444,\"#bd3786\"],[0.5555555555555556,\"#d8576b\"],[0.6666666666666666,\"#ed7953\"],[0.7777777777777778,\"#fb9f3a\"],[0.8888888888888888,\"#fdca26\"],[1.0,\"#f0f921\"]],\"diverging\":[[0,\"#8e0152\"],[0.1,\"#c51b7d\"],[0.2,\"#de77ae\"],[0.3,\"#f1b6da\"],[0.4,\"#fde0ef\"],[0.5,\"#f7f7f7\"],[0.6,\"#e6f5d0\"],[0.7,\"#b8e186\"],[0.8,\"#7fbc41\"],[0.9,\"#4d9221\"],[1,\"#276419\"]]},\"xaxis\":{\"gridcolor\":\"white\",\"linecolor\":\"white\",\"ticks\":\"\",\"title\":{\"standoff\":15},\"zerolinecolor\":\"white\",\"automargin\":true,\"zerolinewidth\":2},\"yaxis\":{\"gridcolor\":\"white\",\"linecolor\":\"white\",\"ticks\":\"\",\"title\":{\"standoff\":15},\"zerolinecolor\":\"white\",\"automargin\":true,\"zerolinewidth\":2},\"scene\":{\"xaxis\":{\"backgroundcolor\":\"#E5ECF6\",\"gridcolor\":\"white\",\"linecolor\":\"white\",\"showbackground\":true,\"ticks\":\"\",\"zerolinecolor\":\"white\",\"gridwidth\":2},\"yaxis\":{\"backgroundcolor\":\"#E5ECF6\",\"gridcolor\":\"white\",\"linecolor\":\"white\",\"showbackground\":true,\"ticks\":\"\",\"zerolinecolor\":\"white\",\"gridwidth\":2},\"zaxis\":{\"backgroundcolor\":\"#E5ECF6\",\"gridcolor\":\"white\",\"linecolor\":\"white\",\"showbackground\":true,\"ticks\":\"\",\"zerolinecolor\":\"white\",\"gridwidth\":2}},\"shapedefaults\":{\"line\":{\"color\":\"#2a3f5f\"}},\"annotationdefaults\":{\"arrowcolor\":\"#2a3f5f\",\"arrowhead\":0,\"arrowwidth\":1},\"geo\":{\"bgcolor\":\"white\",\"landcolor\":\"#E5ECF6\",\"subunitcolor\":\"white\",\"showland\":true,\"showlakes\":true,\"lakecolor\":\"white\"},\"title\":{\"x\":0.05},\"mapbox\":{\"style\":\"light\"}}},\"title\":{\"text\":\"Iteration 30\",\"font\":{\"size\":12},\"x\":0.5},\"margin\":{\"l\":50,\"r\":50,\"t\":100,\"b\":50},\"xaxis\":{\"showticklabels\":false,\"showgrid\":true,\"gridwidth\":1,\"gridcolor\":\"LightGrey\"},\"yaxis\":{\"showticklabels\":false,\"autorange\":\"reversed\",\"showgrid\":true,\"gridwidth\":1,\"gridcolor\":\"LightGrey\"},\"width\":450,\"height\":450,\"paper_bgcolor\":\"rgba(0,0,0,0)\",\"plot_bgcolor\":\"rgba(0,0,0,0)\"},                        {\"responsive\": true}                    ).then(function(){\n",
       "                            \n",
       "var gd = document.getElementById('6a21c84c-4d1f-4bc6-87bd-e7ddb0b251a1');\n",
       "var x = new MutationObserver(function (mutations, observer) {{\n",
       "        var display = window.getComputedStyle(gd).display;\n",
       "        if (!display || display === 'none') {{\n",
       "            console.log([gd, 'removed!']);\n",
       "            Plotly.purge(gd);\n",
       "            observer.disconnect();\n",
       "        }}\n",
       "}});\n",
       "\n",
       "// Listen for the removal of the full notebook cells\n",
       "var notebookContainer = gd.closest('#notebook-container');\n",
       "if (notebookContainer) {{\n",
       "    x.observe(notebookContainer, {childList: true});\n",
       "}}\n",
       "\n",
       "// Listen for the clearing of the current output cell\n",
       "var outputEl = gd.closest('.output');\n",
       "if (outputEl) {{\n",
       "    x.observe(outputEl, {childList: true});\n",
       "}}\n",
       "\n",
       "                        })                };                });            </script>        </div>"
      ]
     },
     "metadata": {},
     "output_type": "display_data"
    }
   ],
   "execution_count": 21
  },
  {
   "metadata": {},
   "cell_type": "markdown",
   "source": [
    "#### __例子：Golf 高尔夫球游戏：__\n",
    "\n",
    "实现书中 example 3.6 的高尔夫游戏，如下图所示：\n",
    "\n",
    "![image](img_3.png)"
   ],
   "id": "3db01b0d57c8e52d"
  },
  {
   "metadata": {
    "ExecuteTime": {
     "end_time": "2024-09-29T12:30:14.167579Z",
     "start_time": "2024-09-29T12:30:13.849414Z"
    }
   },
   "cell_type": "code",
   "source": [
    "import numpy as np\n",
    "import plotly.graph_objects as go\n",
    "from plotly.subplots import make_subplots\n",
    "\n",
    "# 定义高尔夫球场环境\n",
    "class GolfEnv:\n",
    "    def __init__(self):\n",
    "        self.green_area = [(-1, -1), (-1, 0), (-1, 1), (0, -1), (0, 0), (0, 1)]\n",
    "        self.hole = (0, 0)\n",
    "        self.max_distance = 6\n",
    "\n",
    "    def step(self, state, action):\n",
    "        x, y = state\n",
    "        dx, dy = action\n",
    "        new_x, new_y = x + dx, y + dy\n",
    "\n",
    "        # 检查是否进洞\n",
    "        if (new_x, new_y) == self.hole:\n",
    "            return (new_x, new_y), 0, True\n",
    "\n",
    "        # 检查是否在绿色区域\n",
    "        if (new_x, new_y) in self.green_area:\n",
    "            return (new_x, new_y), -1, False\n",
    "\n",
    "        # 检查是否出界\n",
    "        if abs(new_x) > self.max_distance or abs(new_y) > self.max_distance:\n",
    "            return state, -1, False\n",
    "\n",
    "        return (new_x, new_y), -1, False\n",
    "\n",
    "# Q-learning 算法\n",
    "def q_learning(env, episodes=10000, alpha=0.1, gamma=0.9, epsilon=0.1):\n",
    "    q_table = {}\n",
    "\n",
    "    actions = [(0, 1), (0, -1), (1, 0), (-1, 0), (1, 1), (1, -1), (-1, 1), (-1, -1)]\n",
    "\n",
    "    for episode in range(episodes):\n",
    "        state = (-6, 0)  # 起始位置\n",
    "        done = False\n",
    "\n",
    "        while not done:\n",
    "            if state not in q_table:\n",
    "                q_table[state] = np.zeros(len(actions))\n",
    "\n",
    "            if np.random.random() < epsilon:\n",
    "                action = actions[np.random.choice(len(actions))]\n",
    "            else:\n",
    "                action = actions[np.argmax(q_table[state])]\n",
    "\n",
    "            next_state, reward, done = env.step(state, action)\n",
    "\n",
    "            if next_state not in q_table:\n",
    "                q_table[next_state] = np.zeros(len(actions))\n",
    "\n",
    "            # Q-learning更新\n",
    "            old_q = q_table[state][actions.index(action)]\n",
    "            next_max = np.max(q_table[next_state])\n",
    "            new_q = (1 - alpha) * old_q + alpha * (reward + gamma * next_max)\n",
    "            q_table[state][actions.index(action)] = new_q\n",
    "\n",
    "            state = next_state\n",
    "            \n",
    "        epsilon = max(0.01, epsilon * 0.99)  # epsilon衰减策略以便更好地平衡探索与利用\n",
    "    return q_table\n",
    "\n",
    "# 可视化Q-table和原始地图\n",
    "def visualize_q_table_and_map(q_table, env):\n",
    "    x = np.arange(-6, 7)\n",
    "    y = np.arange(-6, 7)\n",
    "    X, Y = np.meshgrid(x, y)\n",
    "\n",
    "    Z = np.zeros_like(X, dtype=float)\n",
    "\n",
    "    for i, xi in enumerate(x):\n",
    "        for j, yi in enumerate(y):\n",
    "            if (xi, yi) in q_table:\n",
    "                # Z[j, i] = np.max(q_table[(xi, yi)])\n",
    "                Z[j, i] = np.max(q_table.get((xi, yi), [-10]))  # 如果状态没有在 q_table 中，给一个较低值\n",
    "            else:\n",
    "                Z[j, i] = -10  # 为不可达状态设置一个较低的值\n",
    "\n",
    "    fig = make_subplots(rows=1, cols=2, subplot_titles=(\"Q-learning热力图\", \"原始游戏地图\"))\n",
    "\n",
    "    # 热力图\n",
    "    heatmap = go.Heatmap(z=Z, x=x, y=y, colorscale='Viridis', zmin=-10, zmax=0)\n",
    "    fig.add_trace(heatmap, row=1, col=1)\n",
    "\n",
    "    # 原始地图\n",
    "    # 绿色区域\n",
    "    green_x, green_y = zip(*env.green_area)\n",
    "    fig.add_trace(go.Scatter(x=green_x, y=green_y, mode='markers', marker=dict(size=10, color='green'), name='绿色区域'), row=1, col=2)\n",
    "\n",
    "    # 球洞\n",
    "    fig.add_trace(go.Scatter(x=[env.hole[0]], y=[env.hole[1]], mode='markers', marker=dict(size=15, color='black', symbol='circle-open'), name='球洞'), row=1, col=2)\n",
    "\n",
    "    # 起始位置\n",
    "    fig.add_trace(go.Scatter(x=[-6], y=[0], mode='markers', marker=dict(size=10, color='blue'), name='起始位置'), row=1, col=2)\n",
    "\n",
    "    # 等高线\n",
    "    contours = go.Contour(z=Z, x=x, y=y, contours=dict(start=-10, end=0, size=1), colorscale='Viridis', showscale=False)\n",
    "    fig.add_trace(contours, row=1, col=2)\n",
    "\n",
    "    fig.update_layout(height=600, width=1200, title_text=\"高尔夫Q-learning状态价值函数与原始地图对比\")\n",
    "    fig.update_xaxes(range=[-6.5, 6.5], title_text=\"X坐标\")\n",
    "    fig.update_yaxes(range=[-6.5, 6.5], title_text=\"Y坐标\")\n",
    "\n",
    "    fig.show()\n",
    "\n",
    "# 主程序\n",
    "env = GolfEnv()\n",
    "q_table = q_learning(env)\n",
    "visualize_q_table_and_map(q_table, env)"
   ],
   "id": "22b0152a87587af",
   "outputs": [
    {
     "data": {
      "application/vnd.plotly.v1+json": {
       "data": [
        {
         "colorscale": [
          [
           0.0,
           "#440154"
          ],
          [
           0.1111111111111111,
           "#482878"
          ],
          [
           0.2222222222222222,
           "#3e4989"
          ],
          [
           0.3333333333333333,
           "#31688e"
          ],
          [
           0.4444444444444444,
           "#26828e"
          ],
          [
           0.5555555555555556,
           "#1f9e89"
          ],
          [
           0.6666666666666666,
           "#35b779"
          ],
          [
           0.7777777777777778,
           "#6ece58"
          ],
          [
           0.8888888888888888,
           "#b5de2b"
          ],
          [
           1.0,
           "#fde725"
          ]
         ],
         "x": [
          -6,
          -5,
          -4,
          -3,
          -2,
          -1,
          0,
          1,
          2,
          3,
          4,
          5,
          6
         ],
         "y": [
          -6,
          -5,
          -4,
          -3,
          -2,
          -1,
          0,
          1,
          2,
          3,
          4,
          5,
          6
         ],
         "z": [
          [
           -2.451708471364212,
           -2.4128950013987454,
           -2.2525365879660852,
           -2.056569612749454,
           -1.8737886053226103,
           -1.63128243084997,
           -1.4242486816830997,
           -1.216084060618734,
           -1.1080490576627111,
           -1.0074686034361817,
           -0.9489754107300072,
           -0.9131160023330402,
           -0.8648275251635911
          ],
          [
           -2.4999380732818555,
           -2.449646880890957,
           -2.300235028372793,
           -2.077078726089885,
           -1.8143899245197552,
           -1.5836114311072296,
           -1.3664699767375355,
           -1.2291326630366448,
           -1.0982119551253229,
           -1.0095151000612685,
           -0.935591379810004,
           -0.905969477402136,
           -0.8648275251635911
          ],
          [
           -2.645725056394927,
           -2.578603697066737,
           -2.3882668887239875,
           -2.0622072707254095,
           -1.7343119027021765,
           -1.4708813874267532,
           -1.2729858591157275,
           -1.1165885294868283,
           -1.0258116353281368,
           -0.9451804488483075,
           -0.9122629667706795,
           -0.8648232204914912,
           -0.8640649262425764
          ],
          [
           -2.8879429042534572,
           -2.79969924745329,
           -2.5164194171954346,
           -1.8999999999999988,
           -1.574214657843939,
           -1.2489269694126368,
           -1.0572262940224963,
           -0.9307154721748702,
           -0.8887210475181664,
           -0.8575855634520642,
           -0.8599547104292665,
           -0.833352916420514,
           -0.8459962525952112
          ],
          [
           -3.2365044676243464,
           -3.0861376877760143,
           -2.7099999999999955,
           -1.8999999999999988,
           -0.9999999999999994,
           -0.8844147753086595,
           -0.6672508171697553,
           -0.6340846105448175,
           -0.6763565151100002,
           -0.7429531097712738,
           -0.7729465457974601,
           -0.7763016010143403,
           -0.7725530557207991
          ],
          [
           -3.6574165840209463,
           -3.4389999999999947,
           -2.7099999999999977,
           -1.8999999999999988,
           -0.9999999999999994,
           0.0,
           0.0,
           0.0,
           -0.4988013028120001,
           -0.620618851,
           -0.7384057948000001,
           -0.7649547833377092,
           -0.772495181795899
          ],
          [
           -4.095099999999991,
           -3.438999999999995,
           -2.7099999999999977,
           -1.8999999999999988,
           -0.9999999999999994,
           0.0,
           0.0,
           0.0,
           -0.39898171000000004,
           -0.58583764114669,
           -0.6793948230711491,
           -0.7646058609661901,
           -0.76407973437619
          ],
          [
           -3.7091631410607553,
           -3.438999999999995,
           -2.7099999999999977,
           -1.8999999999999988,
           -0.9999999999999994,
           0.0,
           0.0,
           0.0,
           -0.46855900000000006,
           -0.6147073900000001,
           -0.7332201831349,
           -0.7616480197924902,
           -0.7504840971640001
          ],
          [
           -3.2416326013208954,
           -3.1059747642481907,
           -2.7099999999999955,
           -1.8999999999999988,
           -0.9999999999999994,
           -0.8784233454094308,
           -0.7195017796693148,
           -0.6377752034200002,
           -0.6828033634137192,
           -0.7680507040434702,
           -0.7652420336286453,
           -0.7725530557207991,
           -0.7714269008867801
          ],
          [
           -2.913320170061444,
           -2.811303619946142,
           -2.531685269308076,
           -1.8999999999999988,
           -1.568614574992272,
           -1.2954299605025907,
           -1.056623481706196,
           -0.9307413547413285,
           -0.8631232623276492,
           -0.8617017287999816,
           -0.8560190645770601,
           -0.802841675644261,
           -0.7725530557207991
          ],
          [
           -2.6590945067079725,
           -2.587658687819403,
           -2.396854813577021,
           -2.086334588425506,
           -1.7682624921704195,
           -1.4956290381197899,
           -1.2741902326070917,
           -1.1159884056815603,
           -1.0316475748274054,
           -0.9380515113738022,
           -0.8594312394446292,
           -0.8539862209632904,
           -0.8304728492935092
          ],
          [
           -2.521417972254913,
           -2.4551990159789145,
           -2.3053985000072004,
           -2.089693478806172,
           -1.8352982262983724,
           -1.5958984392574282,
           -1.4089382261485353,
           -1.2353296758482417,
           -1.0862996477893756,
           -0.9878163432936861,
           -0.9001289589496858,
           -0.8647801737704912,
           -0.8640649262425764
          ],
          [
           -2.4674385352766324,
           -2.376080845849543,
           -2.2939892765561107,
           -2.0638571635634455,
           -1.8807930121453982,
           -1.6350381093022217,
           -1.4246010971656613,
           -1.2232490824300328,
           -1.1236984409368467,
           -1.006503813868615,
           -0.9403248183440573,
           -0.8648261046217982,
           -0.8648275251635911
          ]
         ],
         "zmax": 0,
         "zmin": -10,
         "type": "heatmap",
         "xaxis": "x",
         "yaxis": "y"
        },
        {
         "marker": {
          "color": "green",
          "size": 10
         },
         "mode": "markers",
         "name": "绿色区域",
         "x": [
          -1,
          -1,
          -1,
          0,
          0,
          0
         ],
         "y": [
          -1,
          0,
          1,
          -1,
          0,
          1
         ],
         "type": "scatter",
         "xaxis": "x2",
         "yaxis": "y2"
        },
        {
         "marker": {
          "color": "black",
          "size": 15,
          "symbol": "circle-open"
         },
         "mode": "markers",
         "name": "球洞",
         "x": [
          0
         ],
         "y": [
          0
         ],
         "type": "scatter",
         "xaxis": "x2",
         "yaxis": "y2"
        },
        {
         "marker": {
          "color": "blue",
          "size": 10
         },
         "mode": "markers",
         "name": "起始位置",
         "x": [
          -6
         ],
         "y": [
          0
         ],
         "type": "scatter",
         "xaxis": "x2",
         "yaxis": "y2"
        },
        {
         "colorscale": [
          [
           0.0,
           "#440154"
          ],
          [
           0.1111111111111111,
           "#482878"
          ],
          [
           0.2222222222222222,
           "#3e4989"
          ],
          [
           0.3333333333333333,
           "#31688e"
          ],
          [
           0.4444444444444444,
           "#26828e"
          ],
          [
           0.5555555555555556,
           "#1f9e89"
          ],
          [
           0.6666666666666666,
           "#35b779"
          ],
          [
           0.7777777777777778,
           "#6ece58"
          ],
          [
           0.8888888888888888,
           "#b5de2b"
          ],
          [
           1.0,
           "#fde725"
          ]
         ],
         "contours": {
          "end": 0,
          "size": 1,
          "start": -10
         },
         "showscale": false,
         "x": [
          -6,
          -5,
          -4,
          -3,
          -2,
          -1,
          0,
          1,
          2,
          3,
          4,
          5,
          6
         ],
         "y": [
          -6,
          -5,
          -4,
          -3,
          -2,
          -1,
          0,
          1,
          2,
          3,
          4,
          5,
          6
         ],
         "z": [
          [
           -2.451708471364212,
           -2.4128950013987454,
           -2.2525365879660852,
           -2.056569612749454,
           -1.8737886053226103,
           -1.63128243084997,
           -1.4242486816830997,
           -1.216084060618734,
           -1.1080490576627111,
           -1.0074686034361817,
           -0.9489754107300072,
           -0.9131160023330402,
           -0.8648275251635911
          ],
          [
           -2.4999380732818555,
           -2.449646880890957,
           -2.300235028372793,
           -2.077078726089885,
           -1.8143899245197552,
           -1.5836114311072296,
           -1.3664699767375355,
           -1.2291326630366448,
           -1.0982119551253229,
           -1.0095151000612685,
           -0.935591379810004,
           -0.905969477402136,
           -0.8648275251635911
          ],
          [
           -2.645725056394927,
           -2.578603697066737,
           -2.3882668887239875,
           -2.0622072707254095,
           -1.7343119027021765,
           -1.4708813874267532,
           -1.2729858591157275,
           -1.1165885294868283,
           -1.0258116353281368,
           -0.9451804488483075,
           -0.9122629667706795,
           -0.8648232204914912,
           -0.8640649262425764
          ],
          [
           -2.8879429042534572,
           -2.79969924745329,
           -2.5164194171954346,
           -1.8999999999999988,
           -1.574214657843939,
           -1.2489269694126368,
           -1.0572262940224963,
           -0.9307154721748702,
           -0.8887210475181664,
           -0.8575855634520642,
           -0.8599547104292665,
           -0.833352916420514,
           -0.8459962525952112
          ],
          [
           -3.2365044676243464,
           -3.0861376877760143,
           -2.7099999999999955,
           -1.8999999999999988,
           -0.9999999999999994,
           -0.8844147753086595,
           -0.6672508171697553,
           -0.6340846105448175,
           -0.6763565151100002,
           -0.7429531097712738,
           -0.7729465457974601,
           -0.7763016010143403,
           -0.7725530557207991
          ],
          [
           -3.6574165840209463,
           -3.4389999999999947,
           -2.7099999999999977,
           -1.8999999999999988,
           -0.9999999999999994,
           0.0,
           0.0,
           0.0,
           -0.4988013028120001,
           -0.620618851,
           -0.7384057948000001,
           -0.7649547833377092,
           -0.772495181795899
          ],
          [
           -4.095099999999991,
           -3.438999999999995,
           -2.7099999999999977,
           -1.8999999999999988,
           -0.9999999999999994,
           0.0,
           0.0,
           0.0,
           -0.39898171000000004,
           -0.58583764114669,
           -0.6793948230711491,
           -0.7646058609661901,
           -0.76407973437619
          ],
          [
           -3.7091631410607553,
           -3.438999999999995,
           -2.7099999999999977,
           -1.8999999999999988,
           -0.9999999999999994,
           0.0,
           0.0,
           0.0,
           -0.46855900000000006,
           -0.6147073900000001,
           -0.7332201831349,
           -0.7616480197924902,
           -0.7504840971640001
          ],
          [
           -3.2416326013208954,
           -3.1059747642481907,
           -2.7099999999999955,
           -1.8999999999999988,
           -0.9999999999999994,
           -0.8784233454094308,
           -0.7195017796693148,
           -0.6377752034200002,
           -0.6828033634137192,
           -0.7680507040434702,
           -0.7652420336286453,
           -0.7725530557207991,
           -0.7714269008867801
          ],
          [
           -2.913320170061444,
           -2.811303619946142,
           -2.531685269308076,
           -1.8999999999999988,
           -1.568614574992272,
           -1.2954299605025907,
           -1.056623481706196,
           -0.9307413547413285,
           -0.8631232623276492,
           -0.8617017287999816,
           -0.8560190645770601,
           -0.802841675644261,
           -0.7725530557207991
          ],
          [
           -2.6590945067079725,
           -2.587658687819403,
           -2.396854813577021,
           -2.086334588425506,
           -1.7682624921704195,
           -1.4956290381197899,
           -1.2741902326070917,
           -1.1159884056815603,
           -1.0316475748274054,
           -0.9380515113738022,
           -0.8594312394446292,
           -0.8539862209632904,
           -0.8304728492935092
          ],
          [
           -2.521417972254913,
           -2.4551990159789145,
           -2.3053985000072004,
           -2.089693478806172,
           -1.8352982262983724,
           -1.5958984392574282,
           -1.4089382261485353,
           -1.2353296758482417,
           -1.0862996477893756,
           -0.9878163432936861,
           -0.9001289589496858,
           -0.8647801737704912,
           -0.8640649262425764
          ],
          [
           -2.4674385352766324,
           -2.376080845849543,
           -2.2939892765561107,
           -2.0638571635634455,
           -1.8807930121453982,
           -1.6350381093022217,
           -1.4246010971656613,
           -1.2232490824300328,
           -1.1236984409368467,
           -1.006503813868615,
           -0.9403248183440573,
           -0.8648261046217982,
           -0.8648275251635911
          ]
         ],
         "type": "contour",
         "xaxis": "x2",
         "yaxis": "y2"
        }
       ],
       "layout": {
        "template": {
         "data": {
          "histogram2dcontour": [
           {
            "type": "histogram2dcontour",
            "colorbar": {
             "outlinewidth": 0,
             "ticks": ""
            },
            "colorscale": [
             [
              0.0,
              "#0d0887"
             ],
             [
              0.1111111111111111,
              "#46039f"
             ],
             [
              0.2222222222222222,
              "#7201a8"
             ],
             [
              0.3333333333333333,
              "#9c179e"
             ],
             [
              0.4444444444444444,
              "#bd3786"
             ],
             [
              0.5555555555555556,
              "#d8576b"
             ],
             [
              0.6666666666666666,
              "#ed7953"
             ],
             [
              0.7777777777777778,
              "#fb9f3a"
             ],
             [
              0.8888888888888888,
              "#fdca26"
             ],
             [
              1.0,
              "#f0f921"
             ]
            ]
           }
          ],
          "choropleth": [
           {
            "type": "choropleth",
            "colorbar": {
             "outlinewidth": 0,
             "ticks": ""
            }
           }
          ],
          "histogram2d": [
           {
            "type": "histogram2d",
            "colorbar": {
             "outlinewidth": 0,
             "ticks": ""
            },
            "colorscale": [
             [
              0.0,
              "#0d0887"
             ],
             [
              0.1111111111111111,
              "#46039f"
             ],
             [
              0.2222222222222222,
              "#7201a8"
             ],
             [
              0.3333333333333333,
              "#9c179e"
             ],
             [
              0.4444444444444444,
              "#bd3786"
             ],
             [
              0.5555555555555556,
              "#d8576b"
             ],
             [
              0.6666666666666666,
              "#ed7953"
             ],
             [
              0.7777777777777778,
              "#fb9f3a"
             ],
             [
              0.8888888888888888,
              "#fdca26"
             ],
             [
              1.0,
              "#f0f921"
             ]
            ]
           }
          ],
          "heatmap": [
           {
            "type": "heatmap",
            "colorbar": {
             "outlinewidth": 0,
             "ticks": ""
            },
            "colorscale": [
             [
              0.0,
              "#0d0887"
             ],
             [
              0.1111111111111111,
              "#46039f"
             ],
             [
              0.2222222222222222,
              "#7201a8"
             ],
             [
              0.3333333333333333,
              "#9c179e"
             ],
             [
              0.4444444444444444,
              "#bd3786"
             ],
             [
              0.5555555555555556,
              "#d8576b"
             ],
             [
              0.6666666666666666,
              "#ed7953"
             ],
             [
              0.7777777777777778,
              "#fb9f3a"
             ],
             [
              0.8888888888888888,
              "#fdca26"
             ],
             [
              1.0,
              "#f0f921"
             ]
            ]
           }
          ],
          "heatmapgl": [
           {
            "type": "heatmapgl",
            "colorbar": {
             "outlinewidth": 0,
             "ticks": ""
            },
            "colorscale": [
             [
              0.0,
              "#0d0887"
             ],
             [
              0.1111111111111111,
              "#46039f"
             ],
             [
              0.2222222222222222,
              "#7201a8"
             ],
             [
              0.3333333333333333,
              "#9c179e"
             ],
             [
              0.4444444444444444,
              "#bd3786"
             ],
             [
              0.5555555555555556,
              "#d8576b"
             ],
             [
              0.6666666666666666,
              "#ed7953"
             ],
             [
              0.7777777777777778,
              "#fb9f3a"
             ],
             [
              0.8888888888888888,
              "#fdca26"
             ],
             [
              1.0,
              "#f0f921"
             ]
            ]
           }
          ],
          "contourcarpet": [
           {
            "type": "contourcarpet",
            "colorbar": {
             "outlinewidth": 0,
             "ticks": ""
            }
           }
          ],
          "contour": [
           {
            "type": "contour",
            "colorbar": {
             "outlinewidth": 0,
             "ticks": ""
            },
            "colorscale": [
             [
              0.0,
              "#0d0887"
             ],
             [
              0.1111111111111111,
              "#46039f"
             ],
             [
              0.2222222222222222,
              "#7201a8"
             ],
             [
              0.3333333333333333,
              "#9c179e"
             ],
             [
              0.4444444444444444,
              "#bd3786"
             ],
             [
              0.5555555555555556,
              "#d8576b"
             ],
             [
              0.6666666666666666,
              "#ed7953"
             ],
             [
              0.7777777777777778,
              "#fb9f3a"
             ],
             [
              0.8888888888888888,
              "#fdca26"
             ],
             [
              1.0,
              "#f0f921"
             ]
            ]
           }
          ],
          "surface": [
           {
            "type": "surface",
            "colorbar": {
             "outlinewidth": 0,
             "ticks": ""
            },
            "colorscale": [
             [
              0.0,
              "#0d0887"
             ],
             [
              0.1111111111111111,
              "#46039f"
             ],
             [
              0.2222222222222222,
              "#7201a8"
             ],
             [
              0.3333333333333333,
              "#9c179e"
             ],
             [
              0.4444444444444444,
              "#bd3786"
             ],
             [
              0.5555555555555556,
              "#d8576b"
             ],
             [
              0.6666666666666666,
              "#ed7953"
             ],
             [
              0.7777777777777778,
              "#fb9f3a"
             ],
             [
              0.8888888888888888,
              "#fdca26"
             ],
             [
              1.0,
              "#f0f921"
             ]
            ]
           }
          ],
          "mesh3d": [
           {
            "type": "mesh3d",
            "colorbar": {
             "outlinewidth": 0,
             "ticks": ""
            }
           }
          ],
          "scatter": [
           {
            "fillpattern": {
             "fillmode": "overlay",
             "size": 10,
             "solidity": 0.2
            },
            "type": "scatter"
           }
          ],
          "parcoords": [
           {
            "type": "parcoords",
            "line": {
             "colorbar": {
              "outlinewidth": 0,
              "ticks": ""
             }
            }
           }
          ],
          "scatterpolargl": [
           {
            "type": "scatterpolargl",
            "marker": {
             "colorbar": {
              "outlinewidth": 0,
              "ticks": ""
             }
            }
           }
          ],
          "bar": [
           {
            "error_x": {
             "color": "#2a3f5f"
            },
            "error_y": {
             "color": "#2a3f5f"
            },
            "marker": {
             "line": {
              "color": "#E5ECF6",
              "width": 0.5
             },
             "pattern": {
              "fillmode": "overlay",
              "size": 10,
              "solidity": 0.2
             }
            },
            "type": "bar"
           }
          ],
          "scattergeo": [
           {
            "type": "scattergeo",
            "marker": {
             "colorbar": {
              "outlinewidth": 0,
              "ticks": ""
             }
            }
           }
          ],
          "scatterpolar": [
           {
            "type": "scatterpolar",
            "marker": {
             "colorbar": {
              "outlinewidth": 0,
              "ticks": ""
             }
            }
           }
          ],
          "histogram": [
           {
            "marker": {
             "pattern": {
              "fillmode": "overlay",
              "size": 10,
              "solidity": 0.2
             }
            },
            "type": "histogram"
           }
          ],
          "scattergl": [
           {
            "type": "scattergl",
            "marker": {
             "colorbar": {
              "outlinewidth": 0,
              "ticks": ""
             }
            }
           }
          ],
          "scatter3d": [
           {
            "type": "scatter3d",
            "line": {
             "colorbar": {
              "outlinewidth": 0,
              "ticks": ""
             }
            },
            "marker": {
             "colorbar": {
              "outlinewidth": 0,
              "ticks": ""
             }
            }
           }
          ],
          "scattermapbox": [
           {
            "type": "scattermapbox",
            "marker": {
             "colorbar": {
              "outlinewidth": 0,
              "ticks": ""
             }
            }
           }
          ],
          "scatterternary": [
           {
            "type": "scatterternary",
            "marker": {
             "colorbar": {
              "outlinewidth": 0,
              "ticks": ""
             }
            }
           }
          ],
          "scattercarpet": [
           {
            "type": "scattercarpet",
            "marker": {
             "colorbar": {
              "outlinewidth": 0,
              "ticks": ""
             }
            }
           }
          ],
          "carpet": [
           {
            "aaxis": {
             "endlinecolor": "#2a3f5f",
             "gridcolor": "white",
             "linecolor": "white",
             "minorgridcolor": "white",
             "startlinecolor": "#2a3f5f"
            },
            "baxis": {
             "endlinecolor": "#2a3f5f",
             "gridcolor": "white",
             "linecolor": "white",
             "minorgridcolor": "white",
             "startlinecolor": "#2a3f5f"
            },
            "type": "carpet"
           }
          ],
          "table": [
           {
            "cells": {
             "fill": {
              "color": "#EBF0F8"
             },
             "line": {
              "color": "white"
             }
            },
            "header": {
             "fill": {
              "color": "#C8D4E3"
             },
             "line": {
              "color": "white"
             }
            },
            "type": "table"
           }
          ],
          "barpolar": [
           {
            "marker": {
             "line": {
              "color": "#E5ECF6",
              "width": 0.5
             },
             "pattern": {
              "fillmode": "overlay",
              "size": 10,
              "solidity": 0.2
             }
            },
            "type": "barpolar"
           }
          ],
          "pie": [
           {
            "automargin": true,
            "type": "pie"
           }
          ]
         },
         "layout": {
          "autotypenumbers": "strict",
          "colorway": [
           "#636efa",
           "#EF553B",
           "#00cc96",
           "#ab63fa",
           "#FFA15A",
           "#19d3f3",
           "#FF6692",
           "#B6E880",
           "#FF97FF",
           "#FECB52"
          ],
          "font": {
           "color": "#2a3f5f"
          },
          "hovermode": "closest",
          "hoverlabel": {
           "align": "left"
          },
          "paper_bgcolor": "white",
          "plot_bgcolor": "#E5ECF6",
          "polar": {
           "bgcolor": "#E5ECF6",
           "angularaxis": {
            "gridcolor": "white",
            "linecolor": "white",
            "ticks": ""
           },
           "radialaxis": {
            "gridcolor": "white",
            "linecolor": "white",
            "ticks": ""
           }
          },
          "ternary": {
           "bgcolor": "#E5ECF6",
           "aaxis": {
            "gridcolor": "white",
            "linecolor": "white",
            "ticks": ""
           },
           "baxis": {
            "gridcolor": "white",
            "linecolor": "white",
            "ticks": ""
           },
           "caxis": {
            "gridcolor": "white",
            "linecolor": "white",
            "ticks": ""
           }
          },
          "coloraxis": {
           "colorbar": {
            "outlinewidth": 0,
            "ticks": ""
           }
          },
          "colorscale": {
           "sequential": [
            [
             0.0,
             "#0d0887"
            ],
            [
             0.1111111111111111,
             "#46039f"
            ],
            [
             0.2222222222222222,
             "#7201a8"
            ],
            [
             0.3333333333333333,
             "#9c179e"
            ],
            [
             0.4444444444444444,
             "#bd3786"
            ],
            [
             0.5555555555555556,
             "#d8576b"
            ],
            [
             0.6666666666666666,
             "#ed7953"
            ],
            [
             0.7777777777777778,
             "#fb9f3a"
            ],
            [
             0.8888888888888888,
             "#fdca26"
            ],
            [
             1.0,
             "#f0f921"
            ]
           ],
           "sequentialminus": [
            [
             0.0,
             "#0d0887"
            ],
            [
             0.1111111111111111,
             "#46039f"
            ],
            [
             0.2222222222222222,
             "#7201a8"
            ],
            [
             0.3333333333333333,
             "#9c179e"
            ],
            [
             0.4444444444444444,
             "#bd3786"
            ],
            [
             0.5555555555555556,
             "#d8576b"
            ],
            [
             0.6666666666666666,
             "#ed7953"
            ],
            [
             0.7777777777777778,
             "#fb9f3a"
            ],
            [
             0.8888888888888888,
             "#fdca26"
            ],
            [
             1.0,
             "#f0f921"
            ]
           ],
           "diverging": [
            [
             0,
             "#8e0152"
            ],
            [
             0.1,
             "#c51b7d"
            ],
            [
             0.2,
             "#de77ae"
            ],
            [
             0.3,
             "#f1b6da"
            ],
            [
             0.4,
             "#fde0ef"
            ],
            [
             0.5,
             "#f7f7f7"
            ],
            [
             0.6,
             "#e6f5d0"
            ],
            [
             0.7,
             "#b8e186"
            ],
            [
             0.8,
             "#7fbc41"
            ],
            [
             0.9,
             "#4d9221"
            ],
            [
             1,
             "#276419"
            ]
           ]
          },
          "xaxis": {
           "gridcolor": "white",
           "linecolor": "white",
           "ticks": "",
           "title": {
            "standoff": 15
           },
           "zerolinecolor": "white",
           "automargin": true,
           "zerolinewidth": 2
          },
          "yaxis": {
           "gridcolor": "white",
           "linecolor": "white",
           "ticks": "",
           "title": {
            "standoff": 15
           },
           "zerolinecolor": "white",
           "automargin": true,
           "zerolinewidth": 2
          },
          "scene": {
           "xaxis": {
            "backgroundcolor": "#E5ECF6",
            "gridcolor": "white",
            "linecolor": "white",
            "showbackground": true,
            "ticks": "",
            "zerolinecolor": "white",
            "gridwidth": 2
           },
           "yaxis": {
            "backgroundcolor": "#E5ECF6",
            "gridcolor": "white",
            "linecolor": "white",
            "showbackground": true,
            "ticks": "",
            "zerolinecolor": "white",
            "gridwidth": 2
           },
           "zaxis": {
            "backgroundcolor": "#E5ECF6",
            "gridcolor": "white",
            "linecolor": "white",
            "showbackground": true,
            "ticks": "",
            "zerolinecolor": "white",
            "gridwidth": 2
           }
          },
          "shapedefaults": {
           "line": {
            "color": "#2a3f5f"
           }
          },
          "annotationdefaults": {
           "arrowcolor": "#2a3f5f",
           "arrowhead": 0,
           "arrowwidth": 1
          },
          "geo": {
           "bgcolor": "white",
           "landcolor": "#E5ECF6",
           "subunitcolor": "white",
           "showland": true,
           "showlakes": true,
           "lakecolor": "white"
          },
          "title": {
           "x": 0.05
          },
          "mapbox": {
           "style": "light"
          }
         }
        },
        "xaxis": {
         "anchor": "y",
         "domain": [
          0.0,
          0.45
         ],
         "title": {
          "text": "X坐标"
         },
         "range": [
          -6.5,
          6.5
         ]
        },
        "yaxis": {
         "anchor": "x",
         "domain": [
          0.0,
          1.0
         ],
         "title": {
          "text": "Y坐标"
         },
         "range": [
          -6.5,
          6.5
         ]
        },
        "xaxis2": {
         "anchor": "y2",
         "domain": [
          0.55,
          1.0
         ],
         "title": {
          "text": "X坐标"
         },
         "range": [
          -6.5,
          6.5
         ]
        },
        "yaxis2": {
         "anchor": "x2",
         "domain": [
          0.0,
          1.0
         ],
         "title": {
          "text": "Y坐标"
         },
         "range": [
          -6.5,
          6.5
         ]
        },
        "annotations": [
         {
          "font": {
           "size": 16
          },
          "showarrow": false,
          "text": "Q-learning热力图",
          "x": 0.225,
          "xanchor": "center",
          "xref": "paper",
          "y": 1.0,
          "yanchor": "bottom",
          "yref": "paper"
         },
         {
          "font": {
           "size": 16
          },
          "showarrow": false,
          "text": "原始游戏地图",
          "x": 0.775,
          "xanchor": "center",
          "xref": "paper",
          "y": 1.0,
          "yanchor": "bottom",
          "yref": "paper"
         }
        ],
        "title": {
         "text": "高尔夫Q-learning状态价值函数与原始地图对比"
        },
        "height": 600,
        "width": 1200
       },
       "config": {
        "plotlyServerURL": "https://plot.ly"
       }
      },
      "text/html": [
       "<div>                            <div id=\"cc91a250-0b57-4c1e-a1d8-258eea025185\" class=\"plotly-graph-div\" style=\"height:600px; width:1200px;\"></div>            <script type=\"text/javascript\">                require([\"plotly\"], function(Plotly) {                    window.PLOTLYENV=window.PLOTLYENV || {};                                    if (document.getElementById(\"cc91a250-0b57-4c1e-a1d8-258eea025185\")) {                    Plotly.newPlot(                        \"cc91a250-0b57-4c1e-a1d8-258eea025185\",                        [{\"colorscale\":[[0.0,\"#440154\"],[0.1111111111111111,\"#482878\"],[0.2222222222222222,\"#3e4989\"],[0.3333333333333333,\"#31688e\"],[0.4444444444444444,\"#26828e\"],[0.5555555555555556,\"#1f9e89\"],[0.6666666666666666,\"#35b779\"],[0.7777777777777778,\"#6ece58\"],[0.8888888888888888,\"#b5de2b\"],[1.0,\"#fde725\"]],\"x\":[-6,-5,-4,-3,-2,-1,0,1,2,3,4,5,6],\"y\":[-6,-5,-4,-3,-2,-1,0,1,2,3,4,5,6],\"z\":[[-2.451708471364212,-2.4128950013987454,-2.2525365879660852,-2.056569612749454,-1.8737886053226103,-1.63128243084997,-1.4242486816830997,-1.216084060618734,-1.1080490576627111,-1.0074686034361817,-0.9489754107300072,-0.9131160023330402,-0.8648275251635911],[-2.4999380732818555,-2.449646880890957,-2.300235028372793,-2.077078726089885,-1.8143899245197552,-1.5836114311072296,-1.3664699767375355,-1.2291326630366448,-1.0982119551253229,-1.0095151000612685,-0.935591379810004,-0.905969477402136,-0.8648275251635911],[-2.645725056394927,-2.578603697066737,-2.3882668887239875,-2.0622072707254095,-1.7343119027021765,-1.4708813874267532,-1.2729858591157275,-1.1165885294868283,-1.0258116353281368,-0.9451804488483075,-0.9122629667706795,-0.8648232204914912,-0.8640649262425764],[-2.8879429042534572,-2.79969924745329,-2.5164194171954346,-1.8999999999999988,-1.574214657843939,-1.2489269694126368,-1.0572262940224963,-0.9307154721748702,-0.8887210475181664,-0.8575855634520642,-0.8599547104292665,-0.833352916420514,-0.8459962525952112],[-3.2365044676243464,-3.0861376877760143,-2.7099999999999955,-1.8999999999999988,-0.9999999999999994,-0.8844147753086595,-0.6672508171697553,-0.6340846105448175,-0.6763565151100002,-0.7429531097712738,-0.7729465457974601,-0.7763016010143403,-0.7725530557207991],[-3.6574165840209463,-3.4389999999999947,-2.7099999999999977,-1.8999999999999988,-0.9999999999999994,0.0,0.0,0.0,-0.4988013028120001,-0.620618851,-0.7384057948000001,-0.7649547833377092,-0.772495181795899],[-4.095099999999991,-3.438999999999995,-2.7099999999999977,-1.8999999999999988,-0.9999999999999994,0.0,0.0,0.0,-0.39898171000000004,-0.58583764114669,-0.6793948230711491,-0.7646058609661901,-0.76407973437619],[-3.7091631410607553,-3.438999999999995,-2.7099999999999977,-1.8999999999999988,-0.9999999999999994,0.0,0.0,0.0,-0.46855900000000006,-0.6147073900000001,-0.7332201831349,-0.7616480197924902,-0.7504840971640001],[-3.2416326013208954,-3.1059747642481907,-2.7099999999999955,-1.8999999999999988,-0.9999999999999994,-0.8784233454094308,-0.7195017796693148,-0.6377752034200002,-0.6828033634137192,-0.7680507040434702,-0.7652420336286453,-0.7725530557207991,-0.7714269008867801],[-2.913320170061444,-2.811303619946142,-2.531685269308076,-1.8999999999999988,-1.568614574992272,-1.2954299605025907,-1.056623481706196,-0.9307413547413285,-0.8631232623276492,-0.8617017287999816,-0.8560190645770601,-0.802841675644261,-0.7725530557207991],[-2.6590945067079725,-2.587658687819403,-2.396854813577021,-2.086334588425506,-1.7682624921704195,-1.4956290381197899,-1.2741902326070917,-1.1159884056815603,-1.0316475748274054,-0.9380515113738022,-0.8594312394446292,-0.8539862209632904,-0.8304728492935092],[-2.521417972254913,-2.4551990159789145,-2.3053985000072004,-2.089693478806172,-1.8352982262983724,-1.5958984392574282,-1.4089382261485353,-1.2353296758482417,-1.0862996477893756,-0.9878163432936861,-0.9001289589496858,-0.8647801737704912,-0.8640649262425764],[-2.4674385352766324,-2.376080845849543,-2.2939892765561107,-2.0638571635634455,-1.8807930121453982,-1.6350381093022217,-1.4246010971656613,-1.2232490824300328,-1.1236984409368467,-1.006503813868615,-0.9403248183440573,-0.8648261046217982,-0.8648275251635911]],\"zmax\":0,\"zmin\":-10,\"type\":\"heatmap\",\"xaxis\":\"x\",\"yaxis\":\"y\"},{\"marker\":{\"color\":\"green\",\"size\":10},\"mode\":\"markers\",\"name\":\"\\u7eff\\u8272\\u533a\\u57df\",\"x\":[-1,-1,-1,0,0,0],\"y\":[-1,0,1,-1,0,1],\"type\":\"scatter\",\"xaxis\":\"x2\",\"yaxis\":\"y2\"},{\"marker\":{\"color\":\"black\",\"size\":15,\"symbol\":\"circle-open\"},\"mode\":\"markers\",\"name\":\"\\u7403\\u6d1e\",\"x\":[0],\"y\":[0],\"type\":\"scatter\",\"xaxis\":\"x2\",\"yaxis\":\"y2\"},{\"marker\":{\"color\":\"blue\",\"size\":10},\"mode\":\"markers\",\"name\":\"\\u8d77\\u59cb\\u4f4d\\u7f6e\",\"x\":[-6],\"y\":[0],\"type\":\"scatter\",\"xaxis\":\"x2\",\"yaxis\":\"y2\"},{\"colorscale\":[[0.0,\"#440154\"],[0.1111111111111111,\"#482878\"],[0.2222222222222222,\"#3e4989\"],[0.3333333333333333,\"#31688e\"],[0.4444444444444444,\"#26828e\"],[0.5555555555555556,\"#1f9e89\"],[0.6666666666666666,\"#35b779\"],[0.7777777777777778,\"#6ece58\"],[0.8888888888888888,\"#b5de2b\"],[1.0,\"#fde725\"]],\"contours\":{\"end\":0,\"size\":1,\"start\":-10},\"showscale\":false,\"x\":[-6,-5,-4,-3,-2,-1,0,1,2,3,4,5,6],\"y\":[-6,-5,-4,-3,-2,-1,0,1,2,3,4,5,6],\"z\":[[-2.451708471364212,-2.4128950013987454,-2.2525365879660852,-2.056569612749454,-1.8737886053226103,-1.63128243084997,-1.4242486816830997,-1.216084060618734,-1.1080490576627111,-1.0074686034361817,-0.9489754107300072,-0.9131160023330402,-0.8648275251635911],[-2.4999380732818555,-2.449646880890957,-2.300235028372793,-2.077078726089885,-1.8143899245197552,-1.5836114311072296,-1.3664699767375355,-1.2291326630366448,-1.0982119551253229,-1.0095151000612685,-0.935591379810004,-0.905969477402136,-0.8648275251635911],[-2.645725056394927,-2.578603697066737,-2.3882668887239875,-2.0622072707254095,-1.7343119027021765,-1.4708813874267532,-1.2729858591157275,-1.1165885294868283,-1.0258116353281368,-0.9451804488483075,-0.9122629667706795,-0.8648232204914912,-0.8640649262425764],[-2.8879429042534572,-2.79969924745329,-2.5164194171954346,-1.8999999999999988,-1.574214657843939,-1.2489269694126368,-1.0572262940224963,-0.9307154721748702,-0.8887210475181664,-0.8575855634520642,-0.8599547104292665,-0.833352916420514,-0.8459962525952112],[-3.2365044676243464,-3.0861376877760143,-2.7099999999999955,-1.8999999999999988,-0.9999999999999994,-0.8844147753086595,-0.6672508171697553,-0.6340846105448175,-0.6763565151100002,-0.7429531097712738,-0.7729465457974601,-0.7763016010143403,-0.7725530557207991],[-3.6574165840209463,-3.4389999999999947,-2.7099999999999977,-1.8999999999999988,-0.9999999999999994,0.0,0.0,0.0,-0.4988013028120001,-0.620618851,-0.7384057948000001,-0.7649547833377092,-0.772495181795899],[-4.095099999999991,-3.438999999999995,-2.7099999999999977,-1.8999999999999988,-0.9999999999999994,0.0,0.0,0.0,-0.39898171000000004,-0.58583764114669,-0.6793948230711491,-0.7646058609661901,-0.76407973437619],[-3.7091631410607553,-3.438999999999995,-2.7099999999999977,-1.8999999999999988,-0.9999999999999994,0.0,0.0,0.0,-0.46855900000000006,-0.6147073900000001,-0.7332201831349,-0.7616480197924902,-0.7504840971640001],[-3.2416326013208954,-3.1059747642481907,-2.7099999999999955,-1.8999999999999988,-0.9999999999999994,-0.8784233454094308,-0.7195017796693148,-0.6377752034200002,-0.6828033634137192,-0.7680507040434702,-0.7652420336286453,-0.7725530557207991,-0.7714269008867801],[-2.913320170061444,-2.811303619946142,-2.531685269308076,-1.8999999999999988,-1.568614574992272,-1.2954299605025907,-1.056623481706196,-0.9307413547413285,-0.8631232623276492,-0.8617017287999816,-0.8560190645770601,-0.802841675644261,-0.7725530557207991],[-2.6590945067079725,-2.587658687819403,-2.396854813577021,-2.086334588425506,-1.7682624921704195,-1.4956290381197899,-1.2741902326070917,-1.1159884056815603,-1.0316475748274054,-0.9380515113738022,-0.8594312394446292,-0.8539862209632904,-0.8304728492935092],[-2.521417972254913,-2.4551990159789145,-2.3053985000072004,-2.089693478806172,-1.8352982262983724,-1.5958984392574282,-1.4089382261485353,-1.2353296758482417,-1.0862996477893756,-0.9878163432936861,-0.9001289589496858,-0.8647801737704912,-0.8640649262425764],[-2.4674385352766324,-2.376080845849543,-2.2939892765561107,-2.0638571635634455,-1.8807930121453982,-1.6350381093022217,-1.4246010971656613,-1.2232490824300328,-1.1236984409368467,-1.006503813868615,-0.9403248183440573,-0.8648261046217982,-0.8648275251635911]],\"type\":\"contour\",\"xaxis\":\"x2\",\"yaxis\":\"y2\"}],                        {\"template\":{\"data\":{\"histogram2dcontour\":[{\"type\":\"histogram2dcontour\",\"colorbar\":{\"outlinewidth\":0,\"ticks\":\"\"},\"colorscale\":[[0.0,\"#0d0887\"],[0.1111111111111111,\"#46039f\"],[0.2222222222222222,\"#7201a8\"],[0.3333333333333333,\"#9c179e\"],[0.4444444444444444,\"#bd3786\"],[0.5555555555555556,\"#d8576b\"],[0.6666666666666666,\"#ed7953\"],[0.7777777777777778,\"#fb9f3a\"],[0.8888888888888888,\"#fdca26\"],[1.0,\"#f0f921\"]]}],\"choropleth\":[{\"type\":\"choropleth\",\"colorbar\":{\"outlinewidth\":0,\"ticks\":\"\"}}],\"histogram2d\":[{\"type\":\"histogram2d\",\"colorbar\":{\"outlinewidth\":0,\"ticks\":\"\"},\"colorscale\":[[0.0,\"#0d0887\"],[0.1111111111111111,\"#46039f\"],[0.2222222222222222,\"#7201a8\"],[0.3333333333333333,\"#9c179e\"],[0.4444444444444444,\"#bd3786\"],[0.5555555555555556,\"#d8576b\"],[0.6666666666666666,\"#ed7953\"],[0.7777777777777778,\"#fb9f3a\"],[0.8888888888888888,\"#fdca26\"],[1.0,\"#f0f921\"]]}],\"heatmap\":[{\"type\":\"heatmap\",\"colorbar\":{\"outlinewidth\":0,\"ticks\":\"\"},\"colorscale\":[[0.0,\"#0d0887\"],[0.1111111111111111,\"#46039f\"],[0.2222222222222222,\"#7201a8\"],[0.3333333333333333,\"#9c179e\"],[0.4444444444444444,\"#bd3786\"],[0.5555555555555556,\"#d8576b\"],[0.6666666666666666,\"#ed7953\"],[0.7777777777777778,\"#fb9f3a\"],[0.8888888888888888,\"#fdca26\"],[1.0,\"#f0f921\"]]}],\"heatmapgl\":[{\"type\":\"heatmapgl\",\"colorbar\":{\"outlinewidth\":0,\"ticks\":\"\"},\"colorscale\":[[0.0,\"#0d0887\"],[0.1111111111111111,\"#46039f\"],[0.2222222222222222,\"#7201a8\"],[0.3333333333333333,\"#9c179e\"],[0.4444444444444444,\"#bd3786\"],[0.5555555555555556,\"#d8576b\"],[0.6666666666666666,\"#ed7953\"],[0.7777777777777778,\"#fb9f3a\"],[0.8888888888888888,\"#fdca26\"],[1.0,\"#f0f921\"]]}],\"contourcarpet\":[{\"type\":\"contourcarpet\",\"colorbar\":{\"outlinewidth\":0,\"ticks\":\"\"}}],\"contour\":[{\"type\":\"contour\",\"colorbar\":{\"outlinewidth\":0,\"ticks\":\"\"},\"colorscale\":[[0.0,\"#0d0887\"],[0.1111111111111111,\"#46039f\"],[0.2222222222222222,\"#7201a8\"],[0.3333333333333333,\"#9c179e\"],[0.4444444444444444,\"#bd3786\"],[0.5555555555555556,\"#d8576b\"],[0.6666666666666666,\"#ed7953\"],[0.7777777777777778,\"#fb9f3a\"],[0.8888888888888888,\"#fdca26\"],[1.0,\"#f0f921\"]]}],\"surface\":[{\"type\":\"surface\",\"colorbar\":{\"outlinewidth\":0,\"ticks\":\"\"},\"colorscale\":[[0.0,\"#0d0887\"],[0.1111111111111111,\"#46039f\"],[0.2222222222222222,\"#7201a8\"],[0.3333333333333333,\"#9c179e\"],[0.4444444444444444,\"#bd3786\"],[0.5555555555555556,\"#d8576b\"],[0.6666666666666666,\"#ed7953\"],[0.7777777777777778,\"#fb9f3a\"],[0.8888888888888888,\"#fdca26\"],[1.0,\"#f0f921\"]]}],\"mesh3d\":[{\"type\":\"mesh3d\",\"colorbar\":{\"outlinewidth\":0,\"ticks\":\"\"}}],\"scatter\":[{\"fillpattern\":{\"fillmode\":\"overlay\",\"size\":10,\"solidity\":0.2},\"type\":\"scatter\"}],\"parcoords\":[{\"type\":\"parcoords\",\"line\":{\"colorbar\":{\"outlinewidth\":0,\"ticks\":\"\"}}}],\"scatterpolargl\":[{\"type\":\"scatterpolargl\",\"marker\":{\"colorbar\":{\"outlinewidth\":0,\"ticks\":\"\"}}}],\"bar\":[{\"error_x\":{\"color\":\"#2a3f5f\"},\"error_y\":{\"color\":\"#2a3f5f\"},\"marker\":{\"line\":{\"color\":\"#E5ECF6\",\"width\":0.5},\"pattern\":{\"fillmode\":\"overlay\",\"size\":10,\"solidity\":0.2}},\"type\":\"bar\"}],\"scattergeo\":[{\"type\":\"scattergeo\",\"marker\":{\"colorbar\":{\"outlinewidth\":0,\"ticks\":\"\"}}}],\"scatterpolar\":[{\"type\":\"scatterpolar\",\"marker\":{\"colorbar\":{\"outlinewidth\":0,\"ticks\":\"\"}}}],\"histogram\":[{\"marker\":{\"pattern\":{\"fillmode\":\"overlay\",\"size\":10,\"solidity\":0.2}},\"type\":\"histogram\"}],\"scattergl\":[{\"type\":\"scattergl\",\"marker\":{\"colorbar\":{\"outlinewidth\":0,\"ticks\":\"\"}}}],\"scatter3d\":[{\"type\":\"scatter3d\",\"line\":{\"colorbar\":{\"outlinewidth\":0,\"ticks\":\"\"}},\"marker\":{\"colorbar\":{\"outlinewidth\":0,\"ticks\":\"\"}}}],\"scattermapbox\":[{\"type\":\"scattermapbox\",\"marker\":{\"colorbar\":{\"outlinewidth\":0,\"ticks\":\"\"}}}],\"scatterternary\":[{\"type\":\"scatterternary\",\"marker\":{\"colorbar\":{\"outlinewidth\":0,\"ticks\":\"\"}}}],\"scattercarpet\":[{\"type\":\"scattercarpet\",\"marker\":{\"colorbar\":{\"outlinewidth\":0,\"ticks\":\"\"}}}],\"carpet\":[{\"aaxis\":{\"endlinecolor\":\"#2a3f5f\",\"gridcolor\":\"white\",\"linecolor\":\"white\",\"minorgridcolor\":\"white\",\"startlinecolor\":\"#2a3f5f\"},\"baxis\":{\"endlinecolor\":\"#2a3f5f\",\"gridcolor\":\"white\",\"linecolor\":\"white\",\"minorgridcolor\":\"white\",\"startlinecolor\":\"#2a3f5f\"},\"type\":\"carpet\"}],\"table\":[{\"cells\":{\"fill\":{\"color\":\"#EBF0F8\"},\"line\":{\"color\":\"white\"}},\"header\":{\"fill\":{\"color\":\"#C8D4E3\"},\"line\":{\"color\":\"white\"}},\"type\":\"table\"}],\"barpolar\":[{\"marker\":{\"line\":{\"color\":\"#E5ECF6\",\"width\":0.5},\"pattern\":{\"fillmode\":\"overlay\",\"size\":10,\"solidity\":0.2}},\"type\":\"barpolar\"}],\"pie\":[{\"automargin\":true,\"type\":\"pie\"}]},\"layout\":{\"autotypenumbers\":\"strict\",\"colorway\":[\"#636efa\",\"#EF553B\",\"#00cc96\",\"#ab63fa\",\"#FFA15A\",\"#19d3f3\",\"#FF6692\",\"#B6E880\",\"#FF97FF\",\"#FECB52\"],\"font\":{\"color\":\"#2a3f5f\"},\"hovermode\":\"closest\",\"hoverlabel\":{\"align\":\"left\"},\"paper_bgcolor\":\"white\",\"plot_bgcolor\":\"#E5ECF6\",\"polar\":{\"bgcolor\":\"#E5ECF6\",\"angularaxis\":{\"gridcolor\":\"white\",\"linecolor\":\"white\",\"ticks\":\"\"},\"radialaxis\":{\"gridcolor\":\"white\",\"linecolor\":\"white\",\"ticks\":\"\"}},\"ternary\":{\"bgcolor\":\"#E5ECF6\",\"aaxis\":{\"gridcolor\":\"white\",\"linecolor\":\"white\",\"ticks\":\"\"},\"baxis\":{\"gridcolor\":\"white\",\"linecolor\":\"white\",\"ticks\":\"\"},\"caxis\":{\"gridcolor\":\"white\",\"linecolor\":\"white\",\"ticks\":\"\"}},\"coloraxis\":{\"colorbar\":{\"outlinewidth\":0,\"ticks\":\"\"}},\"colorscale\":{\"sequential\":[[0.0,\"#0d0887\"],[0.1111111111111111,\"#46039f\"],[0.2222222222222222,\"#7201a8\"],[0.3333333333333333,\"#9c179e\"],[0.4444444444444444,\"#bd3786\"],[0.5555555555555556,\"#d8576b\"],[0.6666666666666666,\"#ed7953\"],[0.7777777777777778,\"#fb9f3a\"],[0.8888888888888888,\"#fdca26\"],[1.0,\"#f0f921\"]],\"sequentialminus\":[[0.0,\"#0d0887\"],[0.1111111111111111,\"#46039f\"],[0.2222222222222222,\"#7201a8\"],[0.3333333333333333,\"#9c179e\"],[0.4444444444444444,\"#bd3786\"],[0.5555555555555556,\"#d8576b\"],[0.6666666666666666,\"#ed7953\"],[0.7777777777777778,\"#fb9f3a\"],[0.8888888888888888,\"#fdca26\"],[1.0,\"#f0f921\"]],\"diverging\":[[0,\"#8e0152\"],[0.1,\"#c51b7d\"],[0.2,\"#de77ae\"],[0.3,\"#f1b6da\"],[0.4,\"#fde0ef\"],[0.5,\"#f7f7f7\"],[0.6,\"#e6f5d0\"],[0.7,\"#b8e186\"],[0.8,\"#7fbc41\"],[0.9,\"#4d9221\"],[1,\"#276419\"]]},\"xaxis\":{\"gridcolor\":\"white\",\"linecolor\":\"white\",\"ticks\":\"\",\"title\":{\"standoff\":15},\"zerolinecolor\":\"white\",\"automargin\":true,\"zerolinewidth\":2},\"yaxis\":{\"gridcolor\":\"white\",\"linecolor\":\"white\",\"ticks\":\"\",\"title\":{\"standoff\":15},\"zerolinecolor\":\"white\",\"automargin\":true,\"zerolinewidth\":2},\"scene\":{\"xaxis\":{\"backgroundcolor\":\"#E5ECF6\",\"gridcolor\":\"white\",\"linecolor\":\"white\",\"showbackground\":true,\"ticks\":\"\",\"zerolinecolor\":\"white\",\"gridwidth\":2},\"yaxis\":{\"backgroundcolor\":\"#E5ECF6\",\"gridcolor\":\"white\",\"linecolor\":\"white\",\"showbackground\":true,\"ticks\":\"\",\"zerolinecolor\":\"white\",\"gridwidth\":2},\"zaxis\":{\"backgroundcolor\":\"#E5ECF6\",\"gridcolor\":\"white\",\"linecolor\":\"white\",\"showbackground\":true,\"ticks\":\"\",\"zerolinecolor\":\"white\",\"gridwidth\":2}},\"shapedefaults\":{\"line\":{\"color\":\"#2a3f5f\"}},\"annotationdefaults\":{\"arrowcolor\":\"#2a3f5f\",\"arrowhead\":0,\"arrowwidth\":1},\"geo\":{\"bgcolor\":\"white\",\"landcolor\":\"#E5ECF6\",\"subunitcolor\":\"white\",\"showland\":true,\"showlakes\":true,\"lakecolor\":\"white\"},\"title\":{\"x\":0.05},\"mapbox\":{\"style\":\"light\"}}},\"xaxis\":{\"anchor\":\"y\",\"domain\":[0.0,0.45],\"title\":{\"text\":\"X\\u5750\\u6807\"},\"range\":[-6.5,6.5]},\"yaxis\":{\"anchor\":\"x\",\"domain\":[0.0,1.0],\"title\":{\"text\":\"Y\\u5750\\u6807\"},\"range\":[-6.5,6.5]},\"xaxis2\":{\"anchor\":\"y2\",\"domain\":[0.55,1.0],\"title\":{\"text\":\"X\\u5750\\u6807\"},\"range\":[-6.5,6.5]},\"yaxis2\":{\"anchor\":\"x2\",\"domain\":[0.0,1.0],\"title\":{\"text\":\"Y\\u5750\\u6807\"},\"range\":[-6.5,6.5]},\"annotations\":[{\"font\":{\"size\":16},\"showarrow\":false,\"text\":\"Q-learning\\u70ed\\u529b\\u56fe\",\"x\":0.225,\"xanchor\":\"center\",\"xref\":\"paper\",\"y\":1.0,\"yanchor\":\"bottom\",\"yref\":\"paper\"},{\"font\":{\"size\":16},\"showarrow\":false,\"text\":\"\\u539f\\u59cb\\u6e38\\u620f\\u5730\\u56fe\",\"x\":0.775,\"xanchor\":\"center\",\"xref\":\"paper\",\"y\":1.0,\"yanchor\":\"bottom\",\"yref\":\"paper\"}],\"title\":{\"text\":\"\\u9ad8\\u5c14\\u592bQ-learning\\u72b6\\u6001\\u4ef7\\u503c\\u51fd\\u6570\\u4e0e\\u539f\\u59cb\\u5730\\u56fe\\u5bf9\\u6bd4\"},\"height\":600,\"width\":1200},                        {\"responsive\": true}                    ).then(function(){\n",
       "                            \n",
       "var gd = document.getElementById('cc91a250-0b57-4c1e-a1d8-258eea025185');\n",
       "var x = new MutationObserver(function (mutations, observer) {{\n",
       "        var display = window.getComputedStyle(gd).display;\n",
       "        if (!display || display === 'none') {{\n",
       "            console.log([gd, 'removed!']);\n",
       "            Plotly.purge(gd);\n",
       "            observer.disconnect();\n",
       "        }}\n",
       "}});\n",
       "\n",
       "// Listen for the removal of the full notebook cells\n",
       "var notebookContainer = gd.closest('#notebook-container');\n",
       "if (notebookContainer) {{\n",
       "    x.observe(notebookContainer, {childList: true});\n",
       "}}\n",
       "\n",
       "// Listen for the clearing of the current output cell\n",
       "var outputEl = gd.closest('.output');\n",
       "if (outputEl) {{\n",
       "    x.observe(outputEl, {childList: true});\n",
       "}}\n",
       "\n",
       "                        })                };                });            </script>        </div>"
      ]
     },
     "metadata": {},
     "output_type": "display_data"
    }
   ],
   "execution_count": 20
  },
  {
   "metadata": {},
   "cell_type": "markdown",
   "source": "#### 3.6 Optimal Policies and Optimal Value Functions（最优策略和最优价值函数）",
   "id": "1ca7a6bc2a47fd3b"
  },
  {
   "metadata": {},
   "cell_type": "markdown",
   "source": "#### 3.7 Optimality and Approximation（最优性和近似）",
   "id": "17e74c16d07dd02b"
  },
  {
   "metadata": {},
   "cell_type": "markdown",
   "source": "#### 3.8 Summary（小结）",
   "id": "86e4d4306ca3a17a"
  },
  {
   "metadata": {
    "ExecuteTime": {
     "end_time": "2024-09-29T10:40:18.777628Z",
     "start_time": "2024-09-29T07:23:29.555884Z"
    }
   },
   "cell_type": "code",
   "source": "",
   "id": "32393db1513c6844",
   "outputs": [],
   "execution_count": null
  }
 ],
 "metadata": {
  "kernelspec": {
   "display_name": "Python 3",
   "language": "python",
   "name": "python3"
  },
  "language_info": {
   "codemirror_mode": {
    "name": "ipython",
    "version": 2
   },
   "file_extension": ".py",
   "mimetype": "text/x-python",
   "name": "python",
   "nbconvert_exporter": "python",
   "pygments_lexer": "ipython2",
   "version": "2.7.6"
  }
 },
 "nbformat": 4,
 "nbformat_minor": 5
}
